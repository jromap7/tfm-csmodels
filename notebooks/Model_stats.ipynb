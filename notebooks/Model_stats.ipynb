{
 "cells": [
  {
   "cell_type": "code",
   "execution_count": 5,
   "id": "8f9df371-3467-4467-9903-8ba455a6ce75",
   "metadata": {},
   "outputs": [],
   "source": [
    "import pandas as pd\n",
    "import cobra\n",
    "from cobra.io import read_sbml_model\n",
    "\n",
    "# State the path to the file iJO1366.xml\n",
    "sbml_fname = '../data/processed/experimental_cs_models/30ug_cs_model.xml'\n",
    "\n",
    "# Read the model\n",
    "model = read_sbml_model(sbml_fname)"
   ]
  },
  {
   "cell_type": "code",
   "execution_count": 6,
   "id": "10ec0159-32ea-4dcd-bb0f-d29b71a606d0",
   "metadata": {},
   "outputs": [
    {
     "data": {
      "text/plain": [
       "2720"
      ]
     },
     "execution_count": 6,
     "metadata": {},
     "output_type": "execute_result"
    }
   ],
   "source": [
    "len([met for met in model.metabolites])"
   ]
  },
  {
   "cell_type": "code",
   "execution_count": 7,
   "id": "8b6522a5-5903-4b27-b14e-0988549ff969",
   "metadata": {},
   "outputs": [
    {
     "data": {
      "text/plain": [
       "1411"
      ]
     },
     "execution_count": 7,
     "metadata": {},
     "output_type": "execute_result"
    }
   ],
   "source": [
    "len([g for g in model.genes])"
   ]
  },
  {
   "cell_type": "code",
   "execution_count": 8,
   "id": "f76a9044-8cf9-4642-94c3-902c254d0e97",
   "metadata": {},
   "outputs": [
    {
     "data": {
      "text/plain": [
       "3589"
      ]
     },
     "execution_count": 8,
     "metadata": {},
     "output_type": "execute_result"
    }
   ],
   "source": [
    "len([rxn for rxn in model.reactions])"
   ]
  },
  {
   "cell_type": "code",
   "execution_count": 34,
   "id": "f1c98f05-4629-4563-851f-9aa8fc513880",
   "metadata": {},
   "outputs": [],
   "source": [
    "model.solver = 'glpk'"
   ]
  },
  {
   "cell_type": "code",
   "execution_count": 35,
   "id": "baa5621b-dfd1-424e-9791-06e506b33054",
   "metadata": {},
   "outputs": [],
   "source": [
    "model.objective = \"biomass_reaction\"\n",
    "opt = model.optimize()"
   ]
  },
  {
   "cell_type": "code",
   "execution_count": 67,
   "id": "2e2726c0-532c-4de4-9154-c270659dfbd1",
   "metadata": {},
   "outputs": [
    {
     "data": {
      "text/plain": [
       "ATPS4mi    1.546887\n",
       "ATPtm      1.068244\n",
       "PYRt2m     0.764975\n",
       "PCm        0.764975\n",
       "H2CO3Dm    0.764975\n",
       "             ...   \n",
       "NH4tb     -0.559527\n",
       "EX_o2_e   -0.635501\n",
       "MALOAtm   -0.764975\n",
       "MALtm     -0.764975\n",
       "H2Otm     -1.269405\n",
       "Name: fluxes, Length: 3292, dtype: float64"
      ]
     },
     "execution_count": 67,
     "metadata": {},
     "output_type": "execute_result"
    }
   ],
   "source": [
    "import re\n",
    "df = opt.fluxes\n",
    "df.sort_values(ascending = False)"
   ]
  },
  {
   "cell_type": "code",
   "execution_count": null,
   "id": "6122db11-6bf2-439d-8e7a-aceff89345f8",
   "metadata": {},
   "outputs": [],
   "source": [
    "model.reactions"
   ]
  },
  {
   "cell_type": "code",
   "execution_count": null,
   "id": "2b825e38-0e95-46ae-b74d-8989ca0336b0",
   "metadata": {},
   "outputs": [],
   "source": []
  }
 ],
 "metadata": {
  "kernelspec": {
   "display_name": "Python 3",
   "language": "python",
   "name": "python3"
  },
  "language_info": {
   "codemirror_mode": {
    "name": "ipython",
    "version": 3
   },
   "file_extension": ".py",
   "mimetype": "text/x-python",
   "name": "python",
   "nbconvert_exporter": "python",
   "pygments_lexer": "ipython3",
   "version": "3.8.5"
  }
 },
 "nbformat": 4,
 "nbformat_minor": 5
}
