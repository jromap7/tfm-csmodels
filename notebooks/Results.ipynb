{
 "cells": [
  {
   "cell_type": "code",
   "execution_count": 85,
   "id": "5572db4d-b35f-4220-8748-6626e5631267",
   "metadata": {},
   "outputs": [],
   "source": [
    "import pandas as pd\n",
    "\n",
    "df = pd.read_parquet('../results/30ug_results.parquet')"
   ]
  },
  {
   "cell_type": "code",
   "execution_count": 96,
   "id": "c74fa7f4-0838-412b-a7a8-2470c765cba6",
   "metadata": {},
   "outputs": [],
   "source": [
    "df_30_essentials = df[df['biomass_reaction']<0.05306*0.1]\n",
    "df_30_essentials = df_30_essentials.loc[set(df_30_essentials.index) - set(raw_essentials)]"
   ]
  },
  {
   "cell_type": "code",
   "execution_count": 104,
   "id": "e348410b-7a48-4a89-9b61-943d841ce80f",
   "metadata": {},
   "outputs": [],
   "source": [
    "df_60_o = pd.read_parquet('../results/60ug_results.parquet')"
   ]
  },
  {
   "cell_type": "code",
   "execution_count": 7,
   "id": "2af580fd-bb8a-43e4-ab69-e9671db03d79",
   "metadata": {},
   "outputs": [],
   "source": [
    "df_60_essentials = df_60_o[df_60_o['biomass_reaction']<0.05306*0.01]"
   ]
  },
  {
   "cell_type": "code",
   "execution_count": 8,
   "id": "2bf22ff3-fd1b-41e1-aa86-747020e4ead3",
   "metadata": {},
   "outputs": [],
   "source": [
    "set.intersection(set(df_60_essentials.index), set(raw_essentials))\n",
    "df_60_essentials = df_60_essentials.loc[set(df_60_essentials.index) - set(raw_essentials)]"
   ]
  },
  {
   "cell_type": "code",
   "execution_count": 107,
   "id": "bb92bb65-e55c-4b29-8701-353c3263bce4",
   "metadata": {},
   "outputs": [
    {
     "data": {
      "text/plain": [
       "1881"
      ]
     },
     "execution_count": 107,
     "metadata": {},
     "output_type": "execute_result"
    }
   ],
   "source": [
    "len(df_100_o)\n"
   ]
  },
  {
   "cell_type": "code",
   "execution_count": 95,
   "id": "a80bd7dd-a603-4d54-be93-fd700522854a",
   "metadata": {},
   "outputs": [
    {
     "data": {
      "text/plain": [
       "{'ADSL',\n",
       " 'ATIC',\n",
       " 'CAD',\n",
       " 'CRLS1',\n",
       " 'DHFR',\n",
       " 'DHODH',\n",
       " 'EBP',\n",
       " 'FDFT1',\n",
       " 'GART',\n",
       " 'HMGCR',\n",
       " 'KDSR',\n",
       " 'LSS',\n",
       " 'MVD',\n",
       " 'MVK',\n",
       " 'NSDHL',\n",
       " 'PAICS',\n",
       " 'PFAS',\n",
       " 'PGS1',\n",
       " 'PMVK',\n",
       " 'PPAT',\n",
       " 'RPIA',\n",
       " 'SPTLC1',\n",
       " 'SPTLC2',\n",
       " 'SPTLC3',\n",
       " 'SQLE',\n",
       " 'TXNRD1',\n",
       " 'TYMS',\n",
       " 'UMPS'}"
      ]
     },
     "execution_count": 95,
     "metadata": {},
     "output_type": "execute_result"
    }
   ],
   "source": [
    "set(raw_essentials)"
   ]
  },
  {
   "cell_type": "code",
   "execution_count": 106,
   "id": "7c655ae1-043d-465d-8a9d-d94a58139628",
   "metadata": {},
   "outputs": [],
   "source": [
    "df_100_o = pd.read_parquet('../results/100ug_results.parquet')\n",
    "df_100_essentials = df_100_o[df_100_o['biomass_reaction']<0.05306*0.01]\n",
    "df_100_essentials = df_100_essentials.loc[set(df_100_essentials.index) - set(raw_essentials)]"
   ]
  },
  {
   "cell_type": "code",
   "execution_count": 10,
   "id": "0bd742a2-3fb9-4370-bd8a-c9a62308feab",
   "metadata": {},
   "outputs": [],
   "source": [
    "df_ctrl = pd.read_parquet('../results/control_results.parquet')\n",
    "df_ctrl_essentials = df_ctrl[df_ctrl['biomass_reaction']<0.05306*0.01]\n",
    "df_ctrl_essentials = df_ctrl_essentials.loc[set(df_ctrl_essentials.index) - set(raw_essentials)]"
   ]
  },
  {
   "cell_type": "code",
   "execution_count": 3,
   "id": "f4da55e4-b8cd-420b-9b02-d47e8b692040",
   "metadata": {},
   "outputs": [],
   "source": [
    "df_raw = pd.read_parquet('../results/raw_model.parquet')\n",
    "df_raw_essentials = df_raw[df_raw['growth']<0.054754*0.1]\n",
    "raw_essentials = set(df_raw_essentials.index)"
   ]
  },
  {
   "cell_type": "code",
   "execution_count": 108,
   "id": "c8bd3907-a63c-41db-9f51-c206936e12fe",
   "metadata": {},
   "outputs": [
    {
     "data": {
      "text/html": [
       "<div>\n",
       "<style scoped>\n",
       "    .dataframe tbody tr th:only-of-type {\n",
       "        vertical-align: middle;\n",
       "    }\n",
       "\n",
       "    .dataframe tbody tr th {\n",
       "        vertical-align: top;\n",
       "    }\n",
       "\n",
       "    .dataframe thead th {\n",
       "        text-align: right;\n",
       "    }\n",
       "</style>\n",
       "<table border=\"1\" class=\"dataframe\">\n",
       "  <thead>\n",
       "    <tr style=\"text-align: right;\">\n",
       "      <th></th>\n",
       "      <th>biomass_reaction</th>\n",
       "      <th>confidence</th>\n",
       "      <th>in_model</th>\n",
       "      <th>is_cs_ko</th>\n",
       "      <th>inactivate_reactions</th>\n",
       "    </tr>\n",
       "    <tr>\n",
       "      <th>gene_id</th>\n",
       "      <th></th>\n",
       "      <th></th>\n",
       "      <th></th>\n",
       "      <th></th>\n",
       "      <th></th>\n",
       "    </tr>\n",
       "  </thead>\n",
       "  <tbody>\n",
       "    <tr>\n",
       "      <th>PLD1</th>\n",
       "      <td>0.000000e+00</td>\n",
       "      <td>1.0</td>\n",
       "      <td>True</td>\n",
       "      <td>False</td>\n",
       "      <td>1.0</td>\n",
       "    </tr>\n",
       "    <tr>\n",
       "      <th>DTYMK</th>\n",
       "      <td>0.000000e+00</td>\n",
       "      <td>3.0</td>\n",
       "      <td>True</td>\n",
       "      <td>False</td>\n",
       "      <td>4.0</td>\n",
       "    </tr>\n",
       "    <tr>\n",
       "      <th>SLC25A20</th>\n",
       "      <td>-8.923396e-30</td>\n",
       "      <td>3.0</td>\n",
       "      <td>True</td>\n",
       "      <td>False</td>\n",
       "      <td>47.0</td>\n",
       "    </tr>\n",
       "    <tr>\n",
       "      <th>GUK1</th>\n",
       "      <td>9.424772e-18</td>\n",
       "      <td>1.0</td>\n",
       "      <td>True</td>\n",
       "      <td>False</td>\n",
       "      <td>2.0</td>\n",
       "    </tr>\n",
       "    <tr>\n",
       "      <th>GGPS1</th>\n",
       "      <td>0.000000e+00</td>\n",
       "      <td>3.0</td>\n",
       "      <td>True</td>\n",
       "      <td>False</td>\n",
       "      <td>3.0</td>\n",
       "    </tr>\n",
       "    <tr>\n",
       "      <th>SLC37A4</th>\n",
       "      <td>-6.393745e-16</td>\n",
       "      <td>0.0</td>\n",
       "      <td>True</td>\n",
       "      <td>False</td>\n",
       "      <td>2.0</td>\n",
       "    </tr>\n",
       "    <tr>\n",
       "      <th>SC5D</th>\n",
       "      <td>3.700190e-16</td>\n",
       "      <td>2.0</td>\n",
       "      <td>True</td>\n",
       "      <td>False</td>\n",
       "      <td>5.0</td>\n",
       "    </tr>\n",
       "    <tr>\n",
       "      <th>SLC7A6</th>\n",
       "      <td>0.000000e+00</td>\n",
       "      <td>1.0</td>\n",
       "      <td>True</td>\n",
       "      <td>False</td>\n",
       "      <td>38.0</td>\n",
       "    </tr>\n",
       "    <tr>\n",
       "      <th>HSD17B7</th>\n",
       "      <td>0.000000e+00</td>\n",
       "      <td>1.0</td>\n",
       "      <td>True</td>\n",
       "      <td>False</td>\n",
       "      <td>6.0</td>\n",
       "    </tr>\n",
       "    <tr>\n",
       "      <th>CMPK1</th>\n",
       "      <td>-1.212213e-15</td>\n",
       "      <td>1.0</td>\n",
       "      <td>True</td>\n",
       "      <td>False</td>\n",
       "      <td>25.0</td>\n",
       "    </tr>\n",
       "    <tr>\n",
       "      <th>SGMS1</th>\n",
       "      <td>0.000000e+00</td>\n",
       "      <td>3.0</td>\n",
       "      <td>True</td>\n",
       "      <td>False</td>\n",
       "      <td>18.0</td>\n",
       "    </tr>\n",
       "    <tr>\n",
       "      <th>CPT2</th>\n",
       "      <td>0.000000e+00</td>\n",
       "      <td>3.0</td>\n",
       "      <td>True</td>\n",
       "      <td>False</td>\n",
       "      <td>62.0</td>\n",
       "    </tr>\n",
       "    <tr>\n",
       "      <th>PGD</th>\n",
       "      <td>-4.671623e-16</td>\n",
       "      <td>1.0</td>\n",
       "      <td>True</td>\n",
       "      <td>False</td>\n",
       "      <td>1.0</td>\n",
       "    </tr>\n",
       "    <tr>\n",
       "      <th>H6PD</th>\n",
       "      <td>-2.825057e-15</td>\n",
       "      <td>1.0</td>\n",
       "      <td>True</td>\n",
       "      <td>False</td>\n",
       "      <td>3.0</td>\n",
       "    </tr>\n",
       "  </tbody>\n",
       "</table>\n",
       "</div>"
      ],
      "text/plain": [
       "          biomass_reaction  confidence in_model is_cs_ko  inactivate_reactions\n",
       "gene_id                                                                       \n",
       "PLD1          0.000000e+00         1.0     True    False                   1.0\n",
       "DTYMK         0.000000e+00         3.0     True    False                   4.0\n",
       "SLC25A20     -8.923396e-30         3.0     True    False                  47.0\n",
       "GUK1          9.424772e-18         1.0     True    False                   2.0\n",
       "GGPS1         0.000000e+00         3.0     True    False                   3.0\n",
       "SLC37A4      -6.393745e-16         0.0     True    False                   2.0\n",
       "SC5D          3.700190e-16         2.0     True    False                   5.0\n",
       "SLC7A6        0.000000e+00         1.0     True    False                  38.0\n",
       "HSD17B7       0.000000e+00         1.0     True    False                   6.0\n",
       "CMPK1        -1.212213e-15         1.0     True    False                  25.0\n",
       "SGMS1         0.000000e+00         3.0     True    False                  18.0\n",
       "CPT2          0.000000e+00         3.0     True    False                  62.0\n",
       "PGD          -4.671623e-16         1.0     True    False                   1.0\n",
       "H6PD         -2.825057e-15         1.0     True    False                   3.0"
      ]
     },
     "execution_count": 108,
     "metadata": {},
     "output_type": "execute_result"
    }
   ],
   "source": [
    "df_ctrl_essentials"
   ]
  },
  {
   "cell_type": "code",
   "execution_count": null,
   "id": "405e2e6f-1e6b-475f-84a9-678c4a4e498b",
   "metadata": {},
   "outputs": [],
   "source": [
    "df_ccle = pd.read_parquet('../results/ccle_model.parquet')\n",
    "df_ccle_essentials = df_ccle[df_ccle['growth']<0.0029078*0.01]\n",
    "df_ccle_essentials = df_ccle_essentials.loc[set(df_ccle_essentials.index) - set(raw_essentials)]\n",
    "df_ccle_essentials"
   ]
  },
  {
   "cell_type": "code",
   "execution_count": 11,
   "id": "100479d1-34e2-491f-a820-3c8ddeb0156d",
   "metadata": {},
   "outputs": [],
   "source": [
    "df_final = pd.DataFrame()\n",
    "#df_final['ccle'] =  df_ccle['growth']\n",
    "#df_final['raw'] =  df_raw['growth']\n",
    "df_final['control'] =  df_ctrl['biomass_reaction']\n",
    "df_final['30'] =  df['biomass_reaction']\n",
    "df_final['60'] =  df_60['biomass_reaction']\n",
    "df_final['100'] =  df_100['biomass_reaction']"
   ]
  },
  {
   "cell_type": "code",
   "execution_count": 22,
   "id": "344247af-8fd6-46d0-aa60-40843205316e",
   "metadata": {},
   "outputs": [],
   "source": [
    "csmodel_essential_genes = set(df_ctrl_essentials.index).union(set(df_100_essentials.index),set(df_60_essentials.index),set(df_30_essentials.index))"
   ]
  },
  {
   "cell_type": "code",
   "execution_count": 102,
   "id": "213cda3c-49df-431a-89d2-868fd72e85f9",
   "metadata": {},
   "outputs": [
    {
     "data": {
      "text/plain": [
       "14"
      ]
     },
     "execution_count": 102,
     "metadata": {},
     "output_type": "execute_result"
    }
   ],
   "source": [
    "len(df_ctrl_essentials)"
   ]
  },
  {
   "cell_type": "code",
   "execution_count": 40,
   "id": "4d60a43d-0dcd-4986-87c4-9282fd532acc",
   "metadata": {},
   "outputs": [
    {
     "data": {
      "text/plain": [
       "{'COX7A2': 0,\n",
       " 'COX6C': 0,\n",
       " 'COX8A': 0,\n",
       " 'UQCRH': 0,\n",
       " 'CYP51A1': 0,\n",
       " 'RRM1': 0,\n",
       " 'LHPP': 0,\n",
       " 'RRM2B': 0,\n",
       " 'UQCR11': 0,\n",
       " 'COX5A': 0,\n",
       " 'GUK1': 1,\n",
       " 'UQCR10': 0,\n",
       " 'SC5D': 1,\n",
       " 'UQCRQ': 0,\n",
       " 'HSD17B7': 1,\n",
       " 'CDA': 0,\n",
       " 'DHCR24': 0,\n",
       " 'COX5B': 0,\n",
       " 'PNP': 0,\n",
       " 'COX4I1': 0,\n",
       " 'UQCRFS1': 0,\n",
       " 'COX6A1': 0,\n",
       " 'UQCRC2': 0,\n",
       " 'COX7B': 0,\n",
       " 'DHCR7': 0,\n",
       " 'UQCRB': 0,\n",
       " 'TALDO1': 0,\n",
       " 'MT-CYB': 0,\n",
       " 'SLC37A4': 1,\n",
       " 'CMPK1': 1,\n",
       " 'SGMS1': 1,\n",
       " 'UPP1': 0,\n",
       " 'CPT2': 1,\n",
       " 'COX7B2': 0,\n",
       " 'DTYMK': 1,\n",
       " 'CYC1': 0,\n",
       " 'GGPS1': 1,\n",
       " 'COX7C': 0,\n",
       " 'PGD': 1,\n",
       " 'HMGCS1': 0,\n",
       " 'RRM2': 0,\n",
       " 'CHPT1': 0,\n",
       " 'COX8C': 0,\n",
       " 'SLC25A10': 0,\n",
       " 'SLC25A20': 1,\n",
       " 'SLC7A6': 1,\n",
       " 'GPD1': 0,\n",
       " 'COX6B1': 0,\n",
       " 'H6PD': 1,\n",
       " 'PLD1': 1,\n",
       " 'UQCRC1': 0,\n",
       " 'RPE': 0,\n",
       " 'COX6A2': 0,\n",
       " 'TKTL1': 0,\n",
       " 'PTDSS1': 0}"
      ]
     },
     "execution_count": 40,
     "metadata": {},
     "output_type": "execute_result"
    }
   ],
   "source": [
    "ctrl_index = set(df_ctrl_essentials.index)\n",
    "ctrl_dict = {}\n",
    "for k in csmodel_essential_genes:\n",
    "    if k in ctrl_index:\n",
    "        ctrl_dict[k]=1 \n",
    "    else:\n",
    "        ctrl_dict[k]=0\n",
    "ctrl_dict"
   ]
  },
  {
   "cell_type": "code",
   "execution_count": 41,
   "id": "127e5fe6-3b85-49ac-81a3-dd716b1f9a5c",
   "metadata": {},
   "outputs": [],
   "source": [
    "index_30 = set(df_30_essentials.index)\n",
    "dict_30 = {}\n",
    "for k in csmodel_essential_genes:\n",
    "    if k in index_30:\n",
    "        dict_30[k]=1 \n",
    "    else:\n",
    "        dict_30[k]=0"
   ]
  },
  {
   "cell_type": "code",
   "execution_count": 42,
   "id": "9248f031-99a1-4be0-838d-76172457c6f5",
   "metadata": {},
   "outputs": [],
   "source": [
    "index_60 = set(df_60_essentials.index)\n",
    "dict_60 = {}\n",
    "for k in csmodel_essential_genes:\n",
    "    if k in index_60:\n",
    "        dict_60[k]=1 \n",
    "    else:\n",
    "        dict_60[k]=0"
   ]
  },
  {
   "cell_type": "code",
   "execution_count": 43,
   "id": "82e4d468-ad2e-4a2e-b5d3-cb34135bdcb7",
   "metadata": {},
   "outputs": [],
   "source": [
    "index_100 = set(df_100_essentials.index)\n",
    "dict_100 = {}\n",
    "for k in csmodel_essential_genes:\n",
    "    if k in index_100:\n",
    "        dict_100[k]=1 \n",
    "    else:\n",
    "        dict_100[k]=0"
   ]
  },
  {
   "cell_type": "code",
   "execution_count": 55,
   "id": "1e613b49-17c7-476c-9a94-5b57ae1fa19b",
   "metadata": {},
   "outputs": [],
   "source": [
    "import pandas as pd\n",
    "df_control = pd.DataFrame.from_dict(ctrl_dict, orient='index', columns=['Control'])\n",
    "df_30 = pd.DataFrame.from_dict(dict_30, orient='index', columns=['30ug'])\n",
    "df_60 = pd.DataFrame.from_dict(dict_60, orient='index', columns=['60ug'])\n",
    "df_100 = pd.DataFrame.from_dict(dict_100, orient='index', columns=['100ug'])"
   ]
  },
  {
   "cell_type": "code",
   "execution_count": 62,
   "id": "9c0b6fbf-3458-487a-8e73-5694bbdc17ed",
   "metadata": {},
   "outputs": [],
   "source": [
    "df_csmodels = pd.concat([df_control, df_30, df_60, df_100], axis=1)"
   ]
  },
  {
   "cell_type": "code",
   "execution_count": 80,
   "id": "7abe7635-a58f-4f76-973a-25a95a2dfeb0",
   "metadata": {},
   "outputs": [],
   "source": [
    "df_csmodels = df_csmodels.sort_values(by=['Control', '30ug', '60ug', '100ug'], ascending=False)"
   ]
  },
  {
   "cell_type": "code",
   "execution_count": 27,
   "id": "3bc65147-2198-4f36-b17e-b51dbc73ff11",
   "metadata": {},
   "outputs": [
    {
     "data": {
      "text/plain": [
       "'PLD1'"
      ]
     },
     "execution_count": 27,
     "metadata": {},
     "output_type": "execute_result"
    }
   ],
   "source": [
    "ctrl_index = df_ctrl_essentials.index\n",
    "ctrl_index[0]"
   ]
  },
  {
   "cell_type": "code",
   "execution_count": 61,
   "id": "a2ded06f-527f-4e09-8018-cb0b8514d5cc",
   "metadata": {},
   "outputs": [
    {
     "data": {
      "text/plain": [
       "55"
      ]
     },
     "execution_count": 61,
     "metadata": {},
     "output_type": "execute_result"
    }
   ],
   "source": [
    "len(csmodel_essential_genes)"
   ]
  },
  {
   "cell_type": "code",
   "execution_count": null,
   "id": "df3a7eeb-942a-4734-923a-d48347d49cbe",
   "metadata": {},
   "outputs": [],
   "source": [
    "df_final_essencials = df_final[df_final < 0.05306]\n",
    "df_final_essencials = df_final_essencials.loc[set(df_final_essencials.index) - set(raw_essentials)]"
   ]
  },
  {
   "cell_type": "code",
   "execution_count": null,
   "id": "b3acca1c-62f4-41bb-9a1d-f9af77e69449",
   "metadata": {},
   "outputs": [],
   "source": [
    "df_final_essencials"
   ]
  },
  {
   "cell_type": "code",
   "execution_count": null,
   "id": "6d40d631-c903-4601-8e00-70aa2a83d110",
   "metadata": {},
   "outputs": [],
   "source": [
    "df_final_essencials = df_final_essencials.dropna(how='all')\n",
    "df_final_essencials = df_final_essencials.fillna(0)"
   ]
  },
  {
   "cell_type": "code",
   "execution_count": null,
   "id": "b0071c2b-61d8-4a4c-b307-80b686c1a09d",
   "metadata": {},
   "outputs": [],
   "source": [
    "df_final_essencials"
   ]
  },
  {
   "cell_type": "code",
   "execution_count": null,
   "id": "fc506d4c-4488-4b6a-81dd-de67c40891c2",
   "metadata": {},
   "outputs": [],
   "source": [
    "len(df_final_essencials.index)"
   ]
  },
  {
   "cell_type": "code",
   "execution_count": 81,
   "id": "34762e80-aa39-47af-84b9-c341cde84d89",
   "metadata": {},
   "outputs": [
    {
     "data": {
      "text/plain": [
       "<seaborn.matrix.ClusterGrid at 0x1f1978b59a0>"
      ]
     },
     "execution_count": 81,
     "metadata": {},
     "output_type": "execute_result"
    },
    {
     "data": {
      "image/png": "[encoded data removed]",
      "text/plain": [
       "<Figure size 360x720 with 4 Axes>"
      ]
     },
     "metadata": {
      "needs_background": "light"
     },
     "output_type": "display_data"
    }
   ],
   "source": [
    "import seaborn as sns\n",
    "import matplotlib.pyplot as plt\n",
    "%matplotlib inline\n",
    "\n",
    "#fig, ax = plt.subplots(1, 1, figsize=(100,80), dpi=100)\n",
    "sns.clustermap(df_csmodels, figsize = (5,10), mask=(df_csmodels==0))"
   ]
  },
  {
   "cell_type": "code",
   "execution_count": null,
   "id": "a087fba2-8e01-49a7-8118-4903c32fe939",
   "metadata": {},
   "outputs": [],
   "source": []
  },
  {
   "cell_type": "code",
   "execution_count": 75,
   "id": "75427081-0f94-4f95-80ae-204d999a6a5b",
   "metadata": {},
   "outputs": [
    {
     "data": {
      "text/plain": [
       "<AxesSubplot:>"
      ]
     },
     "execution_count": 75,
     "metadata": {},
     "output_type": "execute_result"
    },
    {
     "data": {
      "text/plain": [
       "<Figure size 288x288 with 0 Axes>"
      ]
     },
     "metadata": {},
     "output_type": "display_data"
    },
    {
     "data": {
      "image/png": "[encoded data removed]",
      "text/plain": [
       "<Figure size 576x576 with 1 Axes>"
      ]
     },
     "metadata": {},
     "output_type": "display_data"
    }
   ],
   "source": [
    "from venn import venn\n",
    "%matplotlib inline\n",
    "\n",
    "sets = { 'control' : ctrl_index, '30ug':index_30, '60ug':index_60,   '100ug':index_100}\n",
    "\n",
    "\n",
    "plt.figure(figsize=(4,4))\n",
    "\n",
    "venn(sets)"
   ]
  },
  {
   "cell_type": "code",
   "execution_count": null,
   "id": "586d9d5a-6eb5-469b-8d97-fa5aec536cad",
   "metadata": {},
   "outputs": [],
   "source": [
    "df_list = df_final_essencials.index.sort_values()"
   ]
  },
  {
   "cell_type": "code",
   "execution_count": null,
   "id": "6049b417-5a61-404d-8a21-7db6b2bda667",
   "metadata": {},
   "outputs": [],
   "source": [
    "df_list = [it for it in df_list]"
   ]
  },
  {
   "cell_type": "code",
   "execution_count": null,
   "id": "3ec91727-464d-482e-b769-1e9d286343eb",
   "metadata": {},
   "outputs": [],
   "source": [
    "df_ctrl.loc['MTHFD1']"
   ]
  },
  {
   "cell_type": "code",
   "execution_count": null,
   "id": "c31e1959-deaf-4386-bc91-c2e72172c603",
   "metadata": {},
   "outputs": [],
   "source": [
    "df_ccle[df_ccle['growth']<2.907839e-02*0.].index"
   ]
  },
  {
   "cell_type": "code",
   "execution_count": null,
   "id": "d830be40-01a4-43c2-ba41-56f312219f99",
   "metadata": {},
   "outputs": [],
   "source": [
    "len(set(df_100.index.to_list()) - set(df_100_essentials.index.to_list()))"
   ]
  },
  {
   "cell_type": "code",
   "execution_count": null,
   "id": "8e0673d0-3b60-49a0-b600-9223ca874b22",
   "metadata": {},
   "outputs": [],
   "source": [
    "set(df_30_essentials.index.to_list()) or set(df_60_essentials.index.to_list()) or set(df_100_essentials.index.to_list()) or set(df_ctrl_essentials.index.to_list())"
   ]
  },
  {
   "cell_type": "code",
   "execution_count": null,
   "id": "767e48e2-28ac-44b4-9b62-ce35038f7026",
   "metadata": {},
   "outputs": [],
   "source": [
    "myset = set.intersection( set(df_raw_essentials.index.to_list()), set(df_ccle_essentials.index.to_list()) )\n",
    "len(myset)"
   ]
  },
  {
   "cell_type": "code",
   "execution_count": null,
   "id": "13457a10-588b-4f41-a8b1-6e3d72811dc5",
   "metadata": {},
   "outputs": [],
   "source": [
    "set(df_ctrl_essentials.index.to_list())"
   ]
  },
  {
   "cell_type": "code",
   "execution_count": null,
   "id": "8305b2c6-8d62-4a05-a105-435192190818",
   "metadata": {},
   "outputs": [],
   "source": [
    "import matplotlib.pyplot as plt\n",
    "from matplotlib_venn import venn2\n",
    "%matplotlib inline\n",
    "\n",
    "set_30 = set(df_30_essentials.index.to_list())\n",
    "set_60 = set(df_60_essentials.index.to_list())\n",
    "set_100 = set(df_100_essentials.index.to_list())\n",
    "set_ctrl = set(df_ctrl_essentials.index.to_list())\n",
    "set_raw = set(df_raw_essentials.index.to_list())\n",
    "set_ccle = set(df_ccle_essentials.index.to_list())\n",
    "\n",
    "plt.figure(figsize=(4,4))\n",
    "# Use the venn2 function\n",
    "venn2([set_raw, set_ccle], ('Raw', 'CCLE'))"
   ]
  },
  {
   "cell_type": "code",
   "execution_count": null,
   "id": "9b6d3d97-697e-4954-b495-13c15db5eab9",
   "metadata": {},
   "outputs": [],
   "source": [
    "df_ccle"
   ]
  },
  {
   "cell_type": "code",
   "execution_count": null,
   "id": "870900e3-039d-4b54-81a8-29073f32d58b",
   "metadata": {},
   "outputs": [],
   "source": [
    "from matplotlib_venn import venn3\n",
    "%matplotlib inline\n",
    "\n",
    "plt.figure(figsize=(4,4))\n",
    "# Use the venn2 function\n",
    "venn2([set_ctrl, set_ccle], ('Control', 'CCLE'))"
   ]
  },
  {
   "cell_type": "code",
   "execution_count": null,
   "id": "2556ad74-c7ed-4d63-bf56-57aa4dbac784",
   "metadata": {},
   "outputs": [],
   "source": [
    "plt.figure(figsize=(4,4))\n",
    "# Use the venn2 function\n",
    "venn2([set_ctrl, set_raw], ('Control', 'Raw'))"
   ]
  },
  {
   "cell_type": "code",
   "execution_count": null,
   "id": "5b4ad1ec-aaa5-4887-bc66-55f83dcb6807",
   "metadata": {},
   "outputs": [],
   "source": [
    "plt.figure(figsize=(4,4))\n",
    "# Use the venn2 function\n",
    "venn3([set_30, set_60, set_100], ('30ug', '60ug', '100ug'))"
   ]
  },
  {
   "cell_type": "code",
   "execution_count": null,
   "id": "44ad438b-09ce-4b4d-8924-6d6df532d959",
   "metadata": {},
   "outputs": [],
   "source": [
    "myset = set.intersection( set(df_100_essentials.index.to_list()), set(df_30_essentials.index.to_list()), set(df_60_essentials.index.to_list()) )\n",
    "myset"
   ]
  },
  {
   "cell_type": "code",
   "execution_count": null,
   "id": "f235a2d5-e033-469d-b3df-c83a5ebe752c",
   "metadata": {},
   "outputs": [],
   "source": [
    "import pandas as pd\n",
    "expression_ceres_df = pd.read_parquet('../data/processed/expression_ceres_df.parquet')\n",
    "expression_stats_df = pd.read_parquet('../data/processed/expression_stats_df.parquet')\n",
    "ceres_stats_df = pd.read_parquet('../data/processed/ceres_stats_df.parquet')"
   ]
  },
  {
   "cell_type": "code",
   "execution_count": null,
   "id": "e2009ed4-b35e-4415-b882-356b8cead047",
   "metadata": {},
   "outputs": [],
   "source": [
    "insilico_lethals = df_raw_essentials.index\n",
    "insilico_non_lethals = df_raw.drop(df_raw_essentials.index).index"
   ]
  },
  {
   "cell_type": "code",
   "execution_count": null,
   "id": "e1beda8f-a569-47ad-b546-50c096599f81",
   "metadata": {},
   "outputs": [],
   "source": [
    "insilico_lethals"
   ]
  },
  {
   "cell_type": "code",
   "execution_count": null,
   "id": "af964927-648c-4c59-bf2e-49895e4e60de",
   "metadata": {},
   "outputs": [],
   "source": [
    "lethal_ceres_df[lethal_ceres_df['ceres'] < 0].mean()"
   ]
  },
  {
   "cell_type": "code",
   "execution_count": null,
   "id": "aa6977fc-9af4-463f-aee3-8ac9adeae7a7",
   "metadata": {},
   "outputs": [],
   "source": [
    "lethal_ceres_df"
   ]
  },
  {
   "cell_type": "code",
   "execution_count": null,
   "id": "a1c4903e-0020-46f1-8212-15cbf181248e",
   "metadata": {},
   "outputs": [],
   "source": [
    "lethal_ceres_df = expression_ceres_df.loc[expression_ceres_df.index.intersection(insilico_lethals)]\n",
    "non_lethal_ceres_df = expression_ceres_df.loc[expression_ceres_df.index.intersection(insilico_non_lethals)]"
   ]
  },
  {
   "cell_type": "code",
   "execution_count": null,
   "id": "463054f3-845e-4f9e-90ad-63bfd18d0b19",
   "metadata": {},
   "outputs": [],
   "source": [
    "expression_ceres_df"
   ]
  },
  {
   "cell_type": "code",
   "execution_count": null,
   "id": "d2d40a5b-bb34-41c4-a59c-2adad7af50fc",
   "metadata": {},
   "outputs": [],
   "source": [
    "import numpy as np\n",
    "import matplotlib.pyplot as plt\n",
    "import seaborn as sns\n",
    "%matplotlib inline\n",
    "fig, ax = plt.subplots(1, 1, figsize=(4,4), dpi=100)\n",
    "\n",
    "sns.distplot(lethal_ceres_df['mean_ceres'], ax=ax, rug=True, kde=True, label='Lethal genes (28)')\n",
    "sns.distplot(non_lethal_ceres_df['mean_ceres'], ax=ax, rug=True, kde=True, label='Non-lethal genes (1852)')\n",
    "\n",
    "ax.set_xlabel(\"CERES score\")\n",
    "ax.set_ylabel(\"Density distribution\")\n",
    "ax.set_title(\"Raw universal model\")\n",
    "ax.legend(loc='upper left', prop={'size': 8})"
   ]
  },
  {
   "cell_type": "code",
   "execution_count": null,
   "id": "264f4e76-dc7f-47ba-97e7-166489d7a9df",
   "metadata": {},
   "outputs": [],
   "source": [
    "df_new_ctrl = pd.read_parquet('../results/new_ccle_single_gene_del.parquet')\n",
    "lethal_genes_df = df_new_ctrl[df_new_ctrl['biomass_reaction'] < 0.029*0.01].index\n",
    "print('Lethals:',len(lethal_genes_df))\n",
    "non_lethal_genes_df = df_new_ctrl[df_new_ctrl['biomass_reaction'] > 0.029*0.01].index\n",
    "print('Non-lethals:',len(non_lethal_genes_df))"
   ]
  },
  {
   "cell_type": "code",
   "execution_count": null,
   "id": "ec550aee-5674-4b89-99fe-bb5b1fb351b0",
   "metadata": {},
   "outputs": [],
   "source": [
    "lethal_ceres_df = ceres_stats_df.loc[ceres_stats_df.index.intersection(lethal_genes_df)]\n",
    "non_lethal_ceres_df = ceres_stats_df.loc[ceres_stats_df.index.intersection(non_lethal_genes_df)]"
   ]
  },
  {
   "cell_type": "code",
   "execution_count": null,
   "id": "92128b5b-dab2-432d-b81f-546338275fab",
   "metadata": {},
   "outputs": [],
   "source": [
    "import scipy.stats\n",
    "res = scipy.stats.mannwhitneyu(lethal_ceres_df['mean_ceres'],non_lethal_ceres_df['mean_ceres'])\n",
    "statistic = res.statistic\n",
    "pval = res.pvalue\n",
    "print(res)"
   ]
  },
  {
   "cell_type": "code",
   "execution_count": null,
   "id": "8a20f967-ad3c-44ec-a070-e1aabad76c40",
   "metadata": {},
   "outputs": [],
   "source": [
    "expression_ceres_df"
   ]
  },
  {
   "cell_type": "code",
   "execution_count": null,
   "id": "292b5771-d86c-46c5-97bc-99e7376ea62e",
   "metadata": {},
   "outputs": [],
   "source": [
    "df_25_50_75= pd.read_parquet('../results/25_50_75_ccle_single_gene_del.parquet')"
   ]
  },
  {
   "cell_type": "code",
   "execution_count": null,
   "id": "6a1aef81-535c-4cd2-84d9-7ddb7a395654",
   "metadata": {},
   "outputs": [],
   "source": [
    "df_25_50_75_essentials = df_25_50_75[df_25_50_75['biomass_reaction']< 0.0844*0.1]"
   ]
  },
  {
   "cell_type": "code",
   "execution_count": null,
   "id": "d299de03-e891-4886-b8d6-b4c8f94b856d",
   "metadata": {},
   "outputs": [],
   "source": [
    "insilico_lethals_ccle_255075 = df_25_50_75_essentials.index\n",
    "insilico_non_lethals_ccle_255075 = df_25_50_75.drop(df_25_50_75_essentials.index).index"
   ]
  },
  {
   "cell_type": "code",
   "execution_count": null,
   "id": "511d644f-885a-4b9f-a374-2121082c16d3",
   "metadata": {},
   "outputs": [],
   "source": [
    "len(insilico_lethals_ccle_255075)"
   ]
  },
  {
   "cell_type": "code",
   "execution_count": null,
   "id": "efffb609-7fb6-466a-bd2f-69434f42ac4b",
   "metadata": {},
   "outputs": [],
   "source": [
    "insilico_non_lethals_ccle_255075"
   ]
  },
  {
   "cell_type": "code",
   "execution_count": null,
   "id": "fa588b22-c0cd-43d1-a8d6-2f60987af429",
   "metadata": {},
   "outputs": [],
   "source": [
    "lethal_ceres_df = ceres_stats_df.loc[ceres_stats_df.index.intersection(insilico_lethals_ccle_255075)]\n",
    "non_lethal_ceres_df = ceres_stats_df.loc[ceres_stats_df.index.intersection(insilico_non_lethals_ccle_255075)]"
   ]
  },
  {
   "cell_type": "code",
   "execution_count": null,
   "id": "82a74013-5e78-4238-8e0d-d413480da898",
   "metadata": {},
   "outputs": [],
   "source": []
  },
  {
   "cell_type": "code",
   "execution_count": null,
   "id": "7c712e7a-015f-411c-b456-3d43710f178b",
   "metadata": {},
   "outputs": [],
   "source": [
    "import numpy as np\n",
    "import matplotlib.pyplot as plt\n",
    "import seaborn as sns\n",
    "%matplotlib inline\n",
    "fig, ax = plt.subplots(1, 1, figsize=(4,4), dpi=100)\n",
    "\n",
    "sns.distplot(lethal_ceres_df['mean_ceres'], ax=ax, rug=True, kde=True, label='Lethal genes (63)')\n",
    "sns.distplot(non_lethal_ceres_df['mean_ceres'], ax=ax, rug=True, kde=True, label='Non-lethal genes (1821)')\n",
    "\n",
    "ax.set_xlabel(\"CERES score\")\n",
    "ax.set_ylabel(\"Density distribution\")\n",
    "ax.set_title(\"Raw universal model\")\n",
    "ax.legend(loc='upper left', prop={'size': 8})"
   ]
  },
  {
   "cell_type": "code",
   "execution_count": null,
   "id": "5deab7e6-a4bf-4a61-9c5a-17b2e4d2c38f",
   "metadata": {},
   "outputs": [],
   "source": [
    "df_25_50_75"
   ]
  },
  {
   "cell_type": "code",
   "execution_count": null,
   "id": "9c1a38b5-35e8-4326-9d2b-92fe00dc3120",
   "metadata": {},
   "outputs": [],
   "source": [
    "df_25_50_75[df_25_50_75['in_model'] == True][df_25_50_75['is_cs_ko'] == True].sort_values(by='biomass_reaction', ascending='False')"
   ]
  },
  {
   "cell_type": "code",
   "execution_count": null,
   "id": "885b599c-21c0-40c6-b7cf-916d1aedc9f4",
   "metadata": {},
   "outputs": [],
   "source": []
  }
 ],
 "metadata": {
  "kernelspec": {
   "display_name": "Python 3",
   "language": "python",
   "name": "python3"
  },
  "language_info": {
   "codemirror_mode": {
    "name": "ipython",
    "version": 3
   },
   "file_extension": ".py",
   "mimetype": "text/x-python",
   "name": "python",
   "nbconvert_exporter": "python",
   "pygments_lexer": "ipython3",
   "version": "3.8.5"
  }
 },
 "nbformat": 4,
 "nbformat_minor": 5
}
