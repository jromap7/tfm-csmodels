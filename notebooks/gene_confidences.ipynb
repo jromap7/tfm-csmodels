{
 "cells": [
  {
   "cell_type": "code",
   "execution_count": 29,
   "id": "c3569717-7572-48df-bbec-b93eb7647a6d",
   "metadata": {},
   "outputs": [],
   "source": [
    "import pandas as pd\n",
    "import json\n",
    "\n",
    "fname = pd.read_parquet('../models/ga_models_2/kos_25_73_75.parquet')\n"
   ]
  },
  {
   "cell_type": "code",
   "execution_count": 30,
   "id": "f3f6d7f1-b6e0-4324-8fa5-b5380f77308b",
   "metadata": {},
   "outputs": [
    {
     "data": {
      "text/html": [
       "<div>\n",
       "<style scoped>\n",
       "    .dataframe tbody tr th:only-of-type {\n",
       "        vertical-align: middle;\n",
       "    }\n",
       "\n",
       "    .dataframe tbody tr th {\n",
       "        vertical-align: top;\n",
       "    }\n",
       "\n",
       "    .dataframe thead th {\n",
       "        text-align: right;\n",
       "    }\n",
       "</style>\n",
       "<table border=\"1\" class=\"dataframe\">\n",
       "  <thead>\n",
       "    <tr style=\"text-align: right;\">\n",
       "      <th></th>\n",
       "      <th>biomass_reaction</th>\n",
       "      <th>confidence</th>\n",
       "      <th>in_model</th>\n",
       "      <th>is_cs_ko</th>\n",
       "      <th>inactivate_reactions</th>\n",
       "    </tr>\n",
       "    <tr>\n",
       "      <th>gene_id</th>\n",
       "      <th></th>\n",
       "      <th></th>\n",
       "      <th></th>\n",
       "      <th></th>\n",
       "      <th></th>\n",
       "    </tr>\n",
       "  </thead>\n",
       "  <tbody>\n",
       "    <tr>\n",
       "      <th>wild_type</th>\n",
       "      <td>0.084443</td>\n",
       "      <td>NaN</td>\n",
       "      <td>None</td>\n",
       "      <td>None</td>\n",
       "      <td>NaN</td>\n",
       "    </tr>\n",
       "    <tr>\n",
       "      <th>AOC1</th>\n",
       "      <td>0.084443</td>\n",
       "      <td>3.0</td>\n",
       "      <td>True</td>\n",
       "      <td>False</td>\n",
       "      <td>9.0</td>\n",
       "    </tr>\n",
       "    <tr>\n",
       "      <th>CYP24A1</th>\n",
       "      <td>0.084443</td>\n",
       "      <td>1.0</td>\n",
       "      <td>True</td>\n",
       "      <td>False</td>\n",
       "      <td>1.0</td>\n",
       "    </tr>\n",
       "    <tr>\n",
       "      <th>CYP27B1</th>\n",
       "      <td>0.084443</td>\n",
       "      <td>1.0</td>\n",
       "      <td>True</td>\n",
       "      <td>False</td>\n",
       "      <td>2.0</td>\n",
       "    </tr>\n",
       "    <tr>\n",
       "      <th>SULT1A3</th>\n",
       "      <td>0.084443</td>\n",
       "      <td>1.0</td>\n",
       "      <td>True</td>\n",
       "      <td>False</td>\n",
       "      <td>6.0</td>\n",
       "    </tr>\n",
       "    <tr>\n",
       "      <th>...</th>\n",
       "      <td>...</td>\n",
       "      <td>...</td>\n",
       "      <td>...</td>\n",
       "      <td>...</td>\n",
       "      <td>...</td>\n",
       "    </tr>\n",
       "    <tr>\n",
       "      <th>UPP2</th>\n",
       "      <td>0.084443</td>\n",
       "      <td>-1.0</td>\n",
       "      <td>True</td>\n",
       "      <td>False</td>\n",
       "      <td>0.0</td>\n",
       "    </tr>\n",
       "    <tr>\n",
       "      <th>WWOX</th>\n",
       "      <td>0.084443</td>\n",
       "      <td>3.0</td>\n",
       "      <td>True</td>\n",
       "      <td>False</td>\n",
       "      <td>0.0</td>\n",
       "    </tr>\n",
       "    <tr>\n",
       "      <th>XYLT1</th>\n",
       "      <td>0.084443</td>\n",
       "      <td>-1.0</td>\n",
       "      <td>True</td>\n",
       "      <td>False</td>\n",
       "      <td>0.0</td>\n",
       "    </tr>\n",
       "    <tr>\n",
       "      <th>XYLT2</th>\n",
       "      <td>0.084443</td>\n",
       "      <td>-1.0</td>\n",
       "      <td>True</td>\n",
       "      <td>False</td>\n",
       "      <td>0.0</td>\n",
       "    </tr>\n",
       "    <tr>\n",
       "      <th>ZADH2</th>\n",
       "      <td>0.084443</td>\n",
       "      <td>-1.0</td>\n",
       "      <td>True</td>\n",
       "      <td>False</td>\n",
       "      <td>0.0</td>\n",
       "    </tr>\n",
       "  </tbody>\n",
       "</table>\n",
       "<p>1884 rows × 5 columns</p>\n",
       "</div>"
      ],
      "text/plain": [
       "           biomass_reaction  confidence in_model is_cs_ko  \\\n",
       "gene_id                                                     \n",
       "wild_type          0.084443         NaN     None     None   \n",
       "AOC1               0.084443         3.0     True    False   \n",
       "CYP24A1            0.084443         1.0     True    False   \n",
       "CYP27B1            0.084443         1.0     True    False   \n",
       "SULT1A3            0.084443         1.0     True    False   \n",
       "...                     ...         ...      ...      ...   \n",
       "UPP2               0.084443        -1.0     True    False   \n",
       "WWOX               0.084443         3.0     True    False   \n",
       "XYLT1              0.084443        -1.0     True    False   \n",
       "XYLT2              0.084443        -1.0     True    False   \n",
       "ZADH2              0.084443        -1.0     True    False   \n",
       "\n",
       "           inactivate_reactions  \n",
       "gene_id                          \n",
       "wild_type                   NaN  \n",
       "AOC1                        9.0  \n",
       "CYP24A1                     1.0  \n",
       "CYP27B1                     2.0  \n",
       "SULT1A3                     6.0  \n",
       "...                         ...  \n",
       "UPP2                        0.0  \n",
       "WWOX                        0.0  \n",
       "XYLT1                       0.0  \n",
       "XYLT2                       0.0  \n",
       "ZADH2                       0.0  \n",
       "\n",
       "[1884 rows x 5 columns]"
      ]
     },
     "execution_count": 30,
     "metadata": {},
     "output_type": "execute_result"
    }
   ],
   "source": [
    "fname"
   ]
  },
  {
   "cell_type": "code",
   "execution_count": 2,
   "id": "80d78967-e9e2-4df4-a682-5959427ee3e8",
   "metadata": {},
   "outputs": [],
   "source": [
    "import pandas as pd\n",
    "expression_ceres_df = pd.read_parquet('../data/processed/expression_ceres_df.parquet')\n",
    "expression_stats_df = pd.read_parquet('../data/processed/expression_stats_df.parquet')\n",
    "ceres_stats_df = pd.read_parquet('../data/processed/ceres_stats_df.parquet')"
   ]
  },
  {
   "cell_type": "code",
   "execution_count": 4,
   "id": "99c81623-a60a-4253-8049-06f266b62efb",
   "metadata": {},
   "outputs": [
    {
     "data": {
      "text/html": [
       "<div>\n",
       "<style scoped>\n",
       "    .dataframe tbody tr th:only-of-type {\n",
       "        vertical-align: middle;\n",
       "    }\n",
       "\n",
       "    .dataframe tbody tr th {\n",
       "        vertical-align: top;\n",
       "    }\n",
       "\n",
       "    .dataframe thead th {\n",
       "        text-align: right;\n",
       "    }\n",
       "</style>\n",
       "<table border=\"1\" class=\"dataframe\">\n",
       "  <thead>\n",
       "    <tr style=\"text-align: right;\">\n",
       "      <th></th>\n",
       "      <th>expression</th>\n",
       "      <th>ceres</th>\n",
       "    </tr>\n",
       "  </thead>\n",
       "  <tbody>\n",
       "    <tr>\n",
       "      <th>A4GALT</th>\n",
       "      <td>0.150560</td>\n",
       "      <td>-0.073618</td>\n",
       "    </tr>\n",
       "    <tr>\n",
       "      <th>A4GNT</th>\n",
       "      <td>0.042644</td>\n",
       "      <td>0.119098</td>\n",
       "    </tr>\n",
       "    <tr>\n",
       "      <th>AACS</th>\n",
       "      <td>4.690417</td>\n",
       "      <td>0.131970</td>\n",
       "    </tr>\n",
       "    <tr>\n",
       "      <th>AADAC</th>\n",
       "      <td>0.000000</td>\n",
       "      <td>0.148652</td>\n",
       "    </tr>\n",
       "    <tr>\n",
       "      <th>AADAT</th>\n",
       "      <td>3.570463</td>\n",
       "      <td>0.088240</td>\n",
       "    </tr>\n",
       "    <tr>\n",
       "      <th>...</th>\n",
       "      <td>...</td>\n",
       "      <td>...</td>\n",
       "    </tr>\n",
       "    <tr>\n",
       "      <th>XDH</th>\n",
       "      <td>0.189034</td>\n",
       "      <td>0.132189</td>\n",
       "    </tr>\n",
       "    <tr>\n",
       "      <th>XYLB</th>\n",
       "      <td>2.446256</td>\n",
       "      <td>0.067276</td>\n",
       "    </tr>\n",
       "    <tr>\n",
       "      <th>XYLT1</th>\n",
       "      <td>0.014355</td>\n",
       "      <td>0.021712</td>\n",
       "    </tr>\n",
       "    <tr>\n",
       "      <th>XYLT2</th>\n",
       "      <td>2.541019</td>\n",
       "      <td>-0.151942</td>\n",
       "    </tr>\n",
       "    <tr>\n",
       "      <th>ZADH2</th>\n",
       "      <td>2.726831</td>\n",
       "      <td>-0.012212</td>\n",
       "    </tr>\n",
       "  </tbody>\n",
       "</table>\n",
       "<p>1821 rows × 2 columns</p>\n",
       "</div>"
      ],
      "text/plain": [
       "        expression     ceres\n",
       "A4GALT    0.150560 -0.073618\n",
       "A4GNT     0.042644  0.119098\n",
       "AACS      4.690417  0.131970\n",
       "AADAC     0.000000  0.148652\n",
       "AADAT     3.570463  0.088240\n",
       "...            ...       ...\n",
       "XDH       0.189034  0.132189\n",
       "XYLB      2.446256  0.067276\n",
       "XYLT1     0.014355  0.021712\n",
       "XYLT2     2.541019 -0.151942\n",
       "ZADH2     2.726831 -0.012212\n",
       "\n",
       "[1821 rows x 2 columns]"
      ]
     },
     "execution_count": 4,
     "metadata": {},
     "output_type": "execute_result"
    }
   ],
   "source": [
    "expression_ceres_df"
   ]
  },
  {
   "cell_type": "code",
   "execution_count": 32,
   "id": "5fde44e0-392e-4b7a-8cb6-f45a0f54fdb3",
   "metadata": {},
   "outputs": [
    {
     "name": "stderr",
     "output_type": "stream",
     "text": [
      "<ipython-input-32-14f49191d591>:1: UserWarning: Boolean Series key will be reindexed to match DataFrame index.\n",
      "  fname_essentials = fname[fname['biomass_reaction']< 0.0844*0.1][fname['in_model'] == True]\n"
     ]
    }
   ],
   "source": [
    "fname_essentials = fname[fname['biomass_reaction']< 0.0844*0.1][fname['in_model'] == True]\n",
    "insilico_lethals = fname_essentials.index\n",
    "insilico_non_lethals = fname.drop(fname_essentials.index).index"
   ]
  },
  {
   "cell_type": "code",
   "execution_count": 33,
   "id": "e36f1c07-690b-435d-9228-f4bd50f90b7a",
   "metadata": {},
   "outputs": [],
   "source": [
    "lethal_ceres_df = ceres_stats_df.loc[ceres_stats_df.index.intersection(insilico_lethals)]\n",
    "non_lethal_ceres_df = ceres_stats_df.loc[ceres_stats_df.index.intersection(insilico_non_lethals)]"
   ]
  },
  {
   "cell_type": "code",
   "execution_count": 34,
   "id": "8a30e1a0-4e2e-431c-adbe-fdca63fdea2c",
   "metadata": {},
   "outputs": [
    {
     "name": "stderr",
     "output_type": "stream",
     "text": [
      "C:\\Miniconda3\\lib\\site-packages\\seaborn\\distributions.py:2557: FutureWarning: `distplot` is a deprecated function and will be removed in a future version. Please adapt your code to use either `displot` (a figure-level function with similar flexibility) or `histplot` (an axes-level function for histograms).\n",
      "  warnings.warn(msg, FutureWarning)\n",
      "C:\\Miniconda3\\lib\\site-packages\\seaborn\\distributions.py:2056: FutureWarning: The `axis` variable is no longer used and will be removed. Instead, assign variables directly to `x` or `y`.\n",
      "  warnings.warn(msg, FutureWarning)\n",
      "C:\\Miniconda3\\lib\\site-packages\\seaborn\\distributions.py:2557: FutureWarning: `distplot` is a deprecated function and will be removed in a future version. Please adapt your code to use either `displot` (a figure-level function with similar flexibility) or `histplot` (an axes-level function for histograms).\n",
      "  warnings.warn(msg, FutureWarning)\n",
      "C:\\Miniconda3\\lib\\site-packages\\seaborn\\distributions.py:2056: FutureWarning: The `axis` variable is no longer used and will be removed. Instead, assign variables directly to `x` or `y`.\n",
      "  warnings.warn(msg, FutureWarning)\n"
     ]
    },
    {
     "data": {
      "text/plain": [
       "<matplotlib.legend.Legend at 0x1aaf4ba5c10>"
      ]
     },
     "execution_count": 34,
     "metadata": {},
     "output_type": "execute_result"
    },
    {
     "data": {
      "image/png": "[encoded data removed]",
      "text/plain": [
       "<Figure size 400x400 with 1 Axes>"
      ]
     },
     "metadata": {
      "needs_background": "light"
     },
     "output_type": "display_data"
    }
   ],
   "source": [
    "import numpy as np\n",
    "import matplotlib.pyplot as plt\n",
    "import seaborn as sns\n",
    "%matplotlib inline\n",
    "fig, ax = plt.subplots(1, 1, figsize=(4,4), dpi=100)\n",
    "lab_eg = f'Lethal genes ({len(insilico_lethals)})'\n",
    "lab_noneg = f'Lethal genes ({len(insilico_non_lethals)})'\n",
    "sns.distplot(lethal_ceres_df['mean_ceres'], ax=ax, rug=True, kde=True, label=lab_eg)\n",
    "sns.distplot(non_lethal_ceres_df['mean_ceres'], ax=ax, rug=True, kde=True, label=lab_noneg)\n",
    "\n",
    "ax.set_xlabel(\"CERES score\")\n",
    "ax.set_ylabel(\"Density distribution\")\n",
    "ax.set_title(\"Raw universal model\")\n",
    "ax.legend(loc='upper left', prop={'size': 8})"
   ]
  },
  {
   "cell_type": "code",
   "execution_count": 35,
   "id": "9fd92c67-2f0f-49f4-aafc-2265c73d4557",
   "metadata": {},
   "outputs": [
    {
     "name": "stdout",
     "output_type": "stream",
     "text": [
      "MannwhitneyuResult(statistic=9887.0, pvalue=8.578400277188239e-09)\n"
     ]
    }
   ],
   "source": [
    "import scipy.stats\n",
    "res = scipy.stats.mannwhitneyu(lethal_ceres_df['mean_ceres'],non_lethal_ceres_df['mean_ceres'])\n",
    "statistic = res.statistic\n",
    "pval = res.pvalue\n",
    "print(res)"
   ]
  },
  {
   "cell_type": "code",
   "execution_count": null,
   "id": "05a78598-77f5-4079-a5f2-da6775c163fc",
   "metadata": {},
   "outputs": [],
   "source": []
  },
  {
   "cell_type": "code",
   "execution_count": null,
   "id": "81d139fa-4207-4c2d-8c7e-5142de2409f1",
   "metadata": {},
   "outputs": [],
   "source": []
  }
 ],
 "metadata": {
  "kernelspec": {
   "display_name": "Python 3",
   "language": "python",
   "name": "python3"
  },
  "language_info": {
   "codemirror_mode": {
    "name": "ipython",
    "version": 3
   },
   "file_extension": ".py",
   "mimetype": "text/x-python",
   "name": "python",
   "nbconvert_exporter": "python",
   "pygments_lexer": "ipython3",
   "version": "3.8.5"
  }
 },
 "nbformat": 4,
 "nbformat_minor": 5
}
