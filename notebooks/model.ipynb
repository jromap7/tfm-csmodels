{
 "cells": [
  {
   "cell_type": "markdown",
   "metadata": {},
   "source": [
    "# Part 1: Read the model\n",
    "\n",
    "In this part we are gonna use a genome-scale metabolic model of Recon3D\n",
    "The file has already been stored in the data folder and its path is ../models/Recon3DModel_301_no_isoforms_gene_symbols.xml\n",
    "\n",
    "### Read the SBML model\n",
    "\n",
    "First we need to import the function read_sbml_model from the cobra.io modules"
   ]
  },
  {
   "cell_type": "code",
   "execution_count": 85,
   "metadata": {},
   "outputs": [
    {
     "name": "stderr",
     "output_type": "stream",
     "text": [
      "'' is not a valid SBML 'SId'.\n"
     ]
    }
   ],
   "source": [
    "import pandas as pd\n",
    "import cobra\n",
    "from cobra.io import read_sbml_model\n",
    "\n",
    "# State the path to the file iJO1366.xml\n",
    "sbml_fname = '../models/Recon3DModel_301_no_isoforms_gene_symbols_LT15_trimed.xml'\n",
    "\n",
    "# Read the model\n",
    "model = read_sbml_model(sbml_fname)"
   ]
  },
  {
   "cell_type": "code",
   "execution_count": 86,
   "metadata": {},
   "outputs": [],
   "source": [
    "model.objective = \"biomass_reaction\""
   ]
  },
  {
   "cell_type": "code",
   "execution_count": 87,
   "metadata": {},
   "outputs": [],
   "source": [
    "model.solver = 'glpk'\n",
    "#solution = model.optimize()"
   ]
  },
  {
   "cell_type": "code",
   "execution_count": 88,
   "metadata": {},
   "outputs": [],
   "source": [
    "import pandas as pd\n",
    "expression_ceres_df = pd.read_parquet('../data/processed/expression_ceres_df.parquet')\n",
    "expression_stats_df = pd.read_parquet('../data/processed/expression_stats_df.parquet')\n",
    "ceres_stats_df = pd.read_parquet('../data/processed/ceres_stats_df.parquet')"
   ]
  },
  {
   "cell_type": "code",
   "execution_count": 89,
   "metadata": {},
   "outputs": [
    {
     "name": "stdout",
     "output_type": "stream",
     "text": [
      "Objective value: 0.08\n",
      "\n",
      "Status: optimal\n",
      "\n",
      "Fluxes:\n",
      "\n",
      "10FTHF5GLUtl    0.000000\n",
      "10FTHF5GLUtm    0.000000\n",
      "10FTHF6GLUtl    0.000000\n",
      "10FTHF6GLUtm    0.000000\n",
      "10FTHF7GLUtl    0.000000\n",
      "                  ...   \n",
      "CYOR_u10mi      0.996860\n",
      "Htmi            0.000000\n",
      "NADH2_u10mi     0.900093\n",
      "CYOOm3i         0.000000\n",
      "CYOOm2i         0.561110\n",
      "Name: fluxes, Length: 8944, dtype: float64\n"
     ]
    }
   ],
   "source": [
    "model.solver = 'glpk'\n",
    "model.objective = \"biomass_reaction\"\n",
    "solution = model.optimize()\n",
    "objective_value = solution.objective_value\n",
    "print(\"Objective value: %.2f\\n\" % solution.objective_value)\n",
    "print(\"Status: %s\\n\" % solution.status)\n",
    "\n",
    "print(\"Fluxes:\\n\")\n",
    "print(solution.fluxes)\n",
    "\n",
    "# Converting the solution into a pandas dataframe\n",
    "#df = solution.to_frame()\n",
    "# Saving the solution into tab-separed-value (tsv) format (plain text)\n",
    "#df.to_csv(\"out/iJO1366_fba.tsv\", sep=\"\\t\")"
   ]
  },
  {
   "cell_type": "code",
   "execution_count": 90,
   "metadata": {},
   "outputs": [
    {
     "data": {
      "text/html": [
       "<div>\n",
       "<style scoped>\n",
       "    .dataframe tbody tr th:only-of-type {\n",
       "        vertical-align: middle;\n",
       "    }\n",
       "\n",
       "    .dataframe tbody tr th {\n",
       "        vertical-align: top;\n",
       "    }\n",
       "\n",
       "    .dataframe thead th {\n",
       "        text-align: right;\n",
       "    }\n",
       "</style>\n",
       "<table border=\"1\" class=\"dataframe\">\n",
       "  <thead>\n",
       "    <tr style=\"text-align: right;\">\n",
       "      <th></th>\n",
       "      <th>growth</th>\n",
       "      <th>status</th>\n",
       "    </tr>\n",
       "    <tr>\n",
       "      <th>ids</th>\n",
       "      <th></th>\n",
       "      <th></th>\n",
       "    </tr>\n",
       "  </thead>\n",
       "  <tbody>\n",
       "    <tr>\n",
       "      <th>DPEP1</th>\n",
       "      <td>0.084443</td>\n",
       "      <td>optimal</td>\n",
       "    </tr>\n",
       "    <tr>\n",
       "      <th>CMPK2</th>\n",
       "      <td>0.084443</td>\n",
       "      <td>optimal</td>\n",
       "    </tr>\n",
       "    <tr>\n",
       "      <th>ALOX15B</th>\n",
       "      <td>0.084443</td>\n",
       "      <td>optimal</td>\n",
       "    </tr>\n",
       "    <tr>\n",
       "      <th>HS3ST5</th>\n",
       "      <td>0.084443</td>\n",
       "      <td>optimal</td>\n",
       "    </tr>\n",
       "    <tr>\n",
       "      <th>PNLIP</th>\n",
       "      <td>0.084443</td>\n",
       "      <td>optimal</td>\n",
       "    </tr>\n",
       "  </tbody>\n",
       "</table>\n",
       "</div>"
      ],
      "text/plain": [
       "           growth   status\n",
       "ids                       \n",
       "DPEP1    0.084443  optimal\n",
       "CMPK2    0.084443  optimal\n",
       "ALOX15B  0.084443  optimal\n",
       "HS3ST5   0.084443  optimal\n",
       "PNLIP    0.084443  optimal"
      ]
     },
     "execution_count": 90,
     "metadata": {},
     "output_type": "execute_result"
    }
   ],
   "source": [
    "# Import the function single_gene_deletion\n",
    "from cobra.flux_analysis import single_gene_deletion\n",
    "\n",
    "# Then get the list of all the genes\n",
    "all_genes = [g.id for g in model.genes]\n",
    "\n",
    "# Running in silico (takes a while)\n",
    "knockout = single_gene_deletion(model, gene_list=all_genes)\n",
    "\n",
    "# This is a fix to get the gene's id as the index\n",
    "knockout['ids'] = [list(i)[0] for i in knockout.ids]\n",
    "knockout = knockout.set_index('ids')\n",
    "\n",
    "# The output of the function single_gene_deletion is a dataframe\n",
    "knockout.head()"
   ]
  },
  {
   "cell_type": "code",
   "execution_count": 91,
   "metadata": {},
   "outputs": [
    {
     "name": "stdout",
     "output_type": "stream",
     "text": [
      "in-silico lethals: 28\n",
      "in-silico non lethals: 1855\n"
     ]
    }
   ],
   "source": [
    "# We define a threshold to define whether the reduction on the biomass flux is considered lethal.\n",
    "objective_value = solution.objective_value\n",
    "threshold = objective_value*0.01\n",
    "\n",
    "# Use this threshold to find which set of genes' knock out reduce the predicted growth below the threshold.\n",
    "insilico_lethals = set(knockout.index[knockout.growth< threshold])\n",
    "# The set of non-essential genes are the genes with a growth value above the threshold.\n",
    "insilico_non_lethals = set(knockout.index[knockout.growth > threshold])\n",
    "\n",
    "print(\"in-silico lethals:\", len(insilico_lethals))\n",
    "print(\"in-silico non lethals:\", len(insilico_non_lethals))"
   ]
  },
  {
   "cell_type": "code",
   "execution_count": 92,
   "metadata": {},
   "outputs": [],
   "source": [
    "lethal_ceres_df = ceres_stats_df.loc[ceres_stats_df.index.intersection(insilico_lethals)]"
   ]
  },
  {
   "cell_type": "code",
   "execution_count": 93,
   "metadata": {},
   "outputs": [],
   "source": [
    "non_lethal_ceres_df = ceres_stats_df.loc[ceres_stats_df.index.intersection(insilico_non_lethals)]"
   ]
  },
  {
   "cell_type": "markdown",
   "metadata": {},
   "source": [
    "## Gene expression histograms"
   ]
  },
  {
   "cell_type": "code",
   "execution_count": 94,
   "metadata": {},
   "outputs": [
    {
     "name": "stderr",
     "output_type": "stream",
     "text": [
      "<ipython-input-94-2547b17d6cd6>:17: UserWarning: Matplotlib is currently using module://matplotlib_inline.backend_inline, which is a non-GUI backend, so cannot show the figure.\n",
      "  fig.show()\n"
     ]
    },
    {
     "data": {
      "image/png": "[encoded data removed]",
      "text/plain": [
       "<Figure size 2400x900 with 1 Axes>"
      ]
     },
     "metadata": {
      "needs_background": "light"
     },
     "output_type": "display_data"
    }
   ],
   "source": [
    "import numpy as np\n",
    "import matplotlib.pyplot as plt\n",
    "import seaborn as sns\n",
    "%matplotlib inline\n",
    "## TODO\n",
    "## Write your code below\n",
    "# plt.hist(np.log(df_expression['RRM1']+1))\n",
    "fig, ax = plt.subplots(1, 1, figsize=(8,3), dpi=300)\n",
    "# hist(df_expression['RRM1'])\n",
    "\n",
    "ax.hist(lethal_ceres_df['mean_ceres'], bins=100, label='Lethal', alpha=0.5)\n",
    "ax.hist(non_lethal_ceres_df['mean_ceres'], bins=100, label='Non lethal', alpha=0.5)\n",
    "\n",
    "ax.set_xlabel(\"log2(TPM+1)\")\n",
    "ax.set_ylabel(\"Count\")\n",
    "ax.legend()\n",
    "fig.show()"
   ]
  },
  {
   "cell_type": "code",
   "execution_count": 95,
   "metadata": {},
   "outputs": [
    {
     "name": "stderr",
     "output_type": "stream",
     "text": [
      "C:\\Miniconda3\\lib\\site-packages\\seaborn\\distributions.py:2557: FutureWarning: `distplot` is a deprecated function and will be removed in a future version. Please adapt your code to use either `displot` (a figure-level function with similar flexibility) or `histplot` (an axes-level function for histograms).\n",
      "  warnings.warn(msg, FutureWarning)\n",
      "C:\\Miniconda3\\lib\\site-packages\\seaborn\\distributions.py:2056: FutureWarning: The `axis` variable is no longer used and will be removed. Instead, assign variables directly to `x` or `y`.\n",
      "  warnings.warn(msg, FutureWarning)\n",
      "C:\\Miniconda3\\lib\\site-packages\\seaborn\\distributions.py:2557: FutureWarning: `distplot` is a deprecated function and will be removed in a future version. Please adapt your code to use either `displot` (a figure-level function with similar flexibility) or `histplot` (an axes-level function for histograms).\n",
      "  warnings.warn(msg, FutureWarning)\n",
      "C:\\Miniconda3\\lib\\site-packages\\seaborn\\distributions.py:2056: FutureWarning: The `axis` variable is no longer used and will be removed. Instead, assign variables directly to `x` or `y`.\n",
      "  warnings.warn(msg, FutureWarning)\n",
      "<ipython-input-95-9bc763a719a2>:10: UserWarning: Matplotlib is currently using module://matplotlib_inline.backend_inline, which is a non-GUI backend, so cannot show the figure.\n",
      "  fig.show()\n"
     ]
    },
    {
     "data": {
      "image/png": "[encoded data removed]",
      "text/plain": [
       "<Figure size 400x400 with 1 Axes>"
      ]
     },
     "metadata": {
      "needs_background": "light"
     },
     "output_type": "display_data"
    }
   ],
   "source": [
    "fig, ax = plt.subplots(1, 1, figsize=(4,4), dpi=100)\n",
    "\n",
    "sns.distplot(lethal_ceres_df['mean_ceres'], ax=ax, rug=True, kde=True, label='Lethal genes (28)')\n",
    "sns.distplot(non_lethal_ceres_df['mean_ceres'], ax=ax, rug=True, kde=True, label='Non-lethal genes (930)')\n",
    "\n",
    "ax.set_xlabel(\"CERES score\")\n",
    "ax.set_ylabel(\"Density distribution\")\n",
    "ax.set_title(\"RNA-seq model\")\n",
    "ax.legend()\n",
    "fig.show()"
   ]
  },
  {
   "cell_type": "code",
   "execution_count": 50,
   "metadata": {},
   "outputs": [
    {
     "data": {
      "text/plain": [
       "-0.5097323312690972"
      ]
     },
     "execution_count": 50,
     "metadata": {},
     "output_type": "execute_result"
    }
   ],
   "source": [
    "lethal_ceres_df['mean_ceres'].mean()"
   ]
  },
  {
   "cell_type": "code",
   "execution_count": 96,
   "metadata": {},
   "outputs": [],
   "source": [
    "import scipy.stats\n",
    "res = scipy.stats.mannwhitneyu(lethal_ceres_df['mean_ceres'],non_lethal_ceres_df['mean_ceres'])\n",
    "statistic = res.statistic\n",
    "pval = res.pvalue"
   ]
  },
  {
   "cell_type": "code",
   "execution_count": 97,
   "metadata": {},
   "outputs": [
    {
     "data": {
      "text/plain": [
       "1.2926579742664444e-09"
      ]
     },
     "execution_count": 97,
     "metadata": {},
     "output_type": "execute_result"
    }
   ],
   "source": [
    "pval"
   ]
  },
  {
   "cell_type": "code",
   "execution_count": 21,
   "metadata": {},
   "outputs": [
    {
     "data": {
      "text/plain": [
       "{'ADSL',\n",
       " 'ATIC',\n",
       " 'CAD',\n",
       " 'CDIPT',\n",
       " 'CMPK1',\n",
       " 'COL4A3BP',\n",
       " 'COX4I1',\n",
       " 'COX5A',\n",
       " 'COX5B',\n",
       " 'COX6A1',\n",
       " 'COX6A2',\n",
       " 'COX6B1',\n",
       " 'COX6C',\n",
       " 'COX7A2',\n",
       " 'COX7B',\n",
       " 'COX7B2',\n",
       " 'COX7C',\n",
       " 'COX8A',\n",
       " 'COX8C',\n",
       " 'CPT2',\n",
       " 'CRLS1',\n",
       " 'CYC1',\n",
       " 'CYP51A1',\n",
       " 'DHCR7',\n",
       " 'DHFR',\n",
       " 'DHODH',\n",
       " 'DTYMK',\n",
       " 'EBP',\n",
       " 'FDFT1',\n",
       " 'G6PD',\n",
       " 'GART',\n",
       " 'GUK1',\n",
       " 'HMGCR',\n",
       " 'HSD17B7',\n",
       " 'KDSR',\n",
       " 'LSS',\n",
       " 'MT-CYB',\n",
       " 'MVD',\n",
       " 'MVK',\n",
       " 'NSDHL',\n",
       " 'PAICS',\n",
       " 'PFAS',\n",
       " 'PGD',\n",
       " 'PGLS',\n",
       " 'PGS1',\n",
       " 'PMVK',\n",
       " 'PPA2',\n",
       " 'PPAT',\n",
       " 'PTPMT1',\n",
       " 'RPIA',\n",
       " 'SLC25A20',\n",
       " 'SLC7A6',\n",
       " 'SPTLC1',\n",
       " 'SPTLC2',\n",
       " 'SPTLC3',\n",
       " 'SQLE',\n",
       " 'TM7SF2',\n",
       " 'TXNRD1',\n",
       " 'TYMS',\n",
       " 'UMPS',\n",
       " 'UQCR10',\n",
       " 'UQCR11',\n",
       " 'UQCRB',\n",
       " 'UQCRC1',\n",
       " 'UQCRC2',\n",
       " 'UQCRFS1',\n",
       " 'UQCRH',\n",
       " 'UQCRQ'}"
      ]
     },
     "execution_count": 21,
     "metadata": {},
     "output_type": "execute_result"
    }
   ],
   "source": [
    "insilico_lethals"
   ]
  },
  {
   "cell_type": "code",
   "execution_count": 5,
   "metadata": {},
   "outputs": [],
   "source": [
    "gene_dict = expression_ceres_df.to_dict()['expression']"
   ]
  },
  {
   "cell_type": "code",
   "execution_count": 6,
   "metadata": {},
   "outputs": [],
   "source": [
    "def gene_confidence(gene_dict):\n",
    "    gene_confidence_dict = {}\n",
    "    global model_genes\n",
    "    for k,v in gene_dict.items():\n",
    "        gene_expr_stats_df = expression_stats_df.loc[k]\n",
    "        q_25 = gene_expr_stats_df['q25_expr']\n",
    "        q_50 = gene_expr_stats_df['q50_expr']\n",
    "        q_75 = gene_expr_stats_df['q75_expr']\n",
    "        if not v == 'nan':\n",
    "            if v < q_25:\n",
    "                gene_confidence_dict[k] = -1\n",
    "            elif v < q_50:\n",
    "                gene_confidence_dict[k] = 1\n",
    "            elif v < q_75:\n",
    "                gene_confidence_dict[k] = 2\n",
    "            elif v >= q_75:\n",
    "                gene_confidence_dict[k] = 3\n",
    "        else:\n",
    "            #If 'nan' then assign confidence == 0\n",
    "            gene_confidence_dict[k] = 0\n",
    "    \n",
    "    return gene_confidence_dict"
   ]
  },
  {
   "cell_type": "code",
   "execution_count": 7,
   "metadata": {},
   "outputs": [],
   "source": [
    "gene_confidence_dict = gene_confidence(gene_dict)"
   ]
  },
  {
   "cell_type": "code",
   "execution_count": null,
   "metadata": {},
   "outputs": [],
   "source": [
    "gene_confidence_dict"
   ]
  },
  {
   "cell_type": "code",
   "execution_count": null,
   "metadata": {},
   "outputs": [],
   "source": [
    "expr_genes = set(expression_ceres_df.index)\n",
    "set(model_genes) - expr_genes"
   ]
  },
  {
   "cell_type": "code",
   "execution_count": 9,
   "metadata": {},
   "outputs": [],
   "source": [
    "from corda import reaction_confidence\n",
    "import re\n",
    "rxn_conf_dict = {}\n",
    "for r in model.reactions:\n",
    "    if re.match('biomass', r.id):\n",
    "        rxn_conf_dict[r.id] = 3\n",
    "    else:\n",
    "        if len(r.genes) > 0:\n",
    "            gpr = r.gene_reaction_rule\n",
    "            rxn_conf_dict[r.id] =  reaction_confidence(gpr, gene_confidence_dict)\n",
    "        else:\n",
    "            rxn_conf_dict[r.id] =  0\n"
   ]
  },
  {
   "cell_type": "code",
   "execution_count": 10,
   "metadata": {},
   "outputs": [],
   "source": [
    "from corda import CORDA\n",
    "opt = CORDA(model, rxn_conf_dict)"
   ]
  },
  {
   "cell_type": "code",
   "execution_count": 11,
   "metadata": {},
   "outputs": [
    {
     "ename": "KeyboardInterrupt",
     "evalue": "",
     "output_type": "error",
     "traceback": [
      "\u001b[1;31m---------------------------------------------------------------------------\u001b[0m",
      "\u001b[1;31mKeyboardInterrupt\u001b[0m                         Traceback (most recent call last)",
      "\u001b[1;32m<ipython-input-11-b51c9dbd77dc>\u001b[0m in \u001b[0;36m<module>\u001b[1;34m\u001b[0m\n\u001b[1;32m----> 1\u001b[1;33m \u001b[0mopt\u001b[0m\u001b[1;33m.\u001b[0m\u001b[0mbuild\u001b[0m\u001b[1;33m(\u001b[0m\u001b[1;33m)\u001b[0m\u001b[1;33m\u001b[0m\u001b[1;33m\u001b[0m\u001b[0m\n\u001b[0m\u001b[0;32m      2\u001b[0m \u001b[0mprint\u001b[0m\u001b[1;33m(\u001b[0m\u001b[0mopt\u001b[0m\u001b[1;33m)\u001b[0m\u001b[1;33m\u001b[0m\u001b[1;33m\u001b[0m\u001b[0m\n",
      "\u001b[1;32mC:\\Miniconda3\\lib\\site-packages\\corda\\corda.py\u001b[0m in \u001b[0;36mbuild\u001b[1;34m(self)\u001b[0m\n\u001b[0;32m    247\u001b[0m         \u001b[1;31m# First iteration - find reactions required for high confidence\u001b[0m\u001b[1;33m\u001b[0m\u001b[1;33m\u001b[0m\u001b[1;33m\u001b[0m\u001b[0m\n\u001b[0;32m    248\u001b[0m         \u001b[0minclude\u001b[0m \u001b[1;33m=\u001b[0m \u001b[1;33m[\u001b[0m\u001b[0mi\u001b[0m \u001b[1;32mfor\u001b[0m \u001b[0mi\u001b[0m\u001b[1;33m,\u001b[0m \u001b[0mc\u001b[0m \u001b[1;32min\u001b[0m \u001b[0mself\u001b[0m\u001b[1;33m.\u001b[0m\u001b[0mconf\u001b[0m\u001b[1;33m.\u001b[0m\u001b[0mitems\u001b[0m\u001b[1;33m(\u001b[0m\u001b[1;33m)\u001b[0m \u001b[1;32mif\u001b[0m \u001b[0mc\u001b[0m \u001b[1;33m==\u001b[0m \u001b[1;36m3\u001b[0m\u001b[1;33m]\u001b[0m\u001b[1;33m\u001b[0m\u001b[1;33m\u001b[0m\u001b[0m\n\u001b[1;32m--> 249\u001b[1;33m         \u001b[0mneed\u001b[0m \u001b[1;33m=\u001b[0m \u001b[0mself\u001b[0m\u001b[1;33m.\u001b[0m\u001b[0massociated\u001b[0m\u001b[1;33m(\u001b[0m\u001b[0minclude\u001b[0m\u001b[1;33m)\u001b[0m\u001b[1;33m\u001b[0m\u001b[1;33m\u001b[0m\u001b[0m\n\u001b[0m\u001b[0;32m    250\u001b[0m         \u001b[1;32mfor\u001b[0m \u001b[0ma\u001b[0m \u001b[1;32min\u001b[0m \u001b[0mnp\u001b[0m\u001b[1;33m.\u001b[0m\u001b[0munique\u001b[0m\u001b[1;33m(\u001b[0m\u001b[0mneed\u001b[0m\u001b[1;33m)\u001b[0m\u001b[1;33m:\u001b[0m\u001b[1;33m\u001b[0m\u001b[1;33m\u001b[0m\u001b[0m\n\u001b[0;32m    251\u001b[0m             \u001b[0mself\u001b[0m\u001b[1;33m.\u001b[0m\u001b[0mconf\u001b[0m\u001b[1;33m[\u001b[0m\u001b[0ma\u001b[0m\u001b[1;33m]\u001b[0m \u001b[1;33m=\u001b[0m \u001b[1;36m3\u001b[0m\u001b[1;33m\u001b[0m\u001b[1;33m\u001b[0m\u001b[0m\n",
      "\u001b[1;32mC:\\Miniconda3\\lib\\site-packages\\corda\\corda.py\u001b[0m in \u001b[0;36massociated\u001b[1;34m(self, targets, conf, penalize_medium, redundancies)\u001b[0m\n\u001b[0;32m    206\u001b[0m                 \u001b[0mself\u001b[0m\u001b[1;33m.\u001b[0m\u001b[0m__corda_objective\u001b[0m\u001b[1;33m(\u001b[0m\u001b[0mpen\u001b[0m\u001b[1;33m)\u001b[0m\u001b[1;33m\u001b[0m\u001b[1;33m\u001b[0m\u001b[0m\n\u001b[0;32m    207\u001b[0m                 \u001b[0msol\u001b[0m \u001b[1;33m=\u001b[0m \u001b[0mself\u001b[0m\u001b[1;33m.\u001b[0m\u001b[0mmodel\u001b[0m\u001b[1;33m.\u001b[0m\u001b[0msolver\u001b[0m\u001b[1;33m.\u001b[0m\u001b[0moptimize\u001b[0m\u001b[1;33m(\u001b[0m\u001b[1;33m)\u001b[0m\u001b[1;33m\u001b[0m\u001b[1;33m\u001b[0m\u001b[0m\n\u001b[1;32m--> 208\u001b[1;33m                 \u001b[0miteration\u001b[0m \u001b[1;33m+=\u001b[0m \u001b[1;36m1\u001b[0m\u001b[1;33m\u001b[0m\u001b[1;33m\u001b[0m\u001b[0m\n\u001b[0m\u001b[0;32m    209\u001b[0m                 \u001b[1;32mif\u001b[0m \u001b[0msol\u001b[0m \u001b[1;33m!=\u001b[0m \u001b[1;34m\"optimal\"\u001b[0m\u001b[1;33m:\u001b[0m\u001b[1;33m\u001b[0m\u001b[1;33m\u001b[0m\u001b[0m\n\u001b[0;32m    210\u001b[0m                     \u001b[0mself\u001b[0m\u001b[1;33m.\u001b[0m\u001b[0mimpossible\u001b[0m\u001b[1;33m.\u001b[0m\u001b[0mappend\u001b[0m\u001b[1;33m(\u001b[0m\u001b[0mvid\u001b[0m\u001b[1;33m)\u001b[0m\u001b[1;33m\u001b[0m\u001b[1;33m\u001b[0m\u001b[0m\n",
      "\u001b[1;31mKeyboardInterrupt\u001b[0m: "
     ]
    }
   ],
   "source": [
    "opt.build()\n",
    "print(opt)"
   ]
  },
  {
   "cell_type": "code",
   "execution_count": 26,
   "metadata": {},
   "outputs": [
    {
     "name": "stderr",
     "output_type": "stream",
     "text": [
      "C:\\Miniconda3\\lib\\site-packages\\cobra\\core\\group.py:109: UserWarning: need to pass in a list\n",
      "  warn(\"need to pass in a list\")\n"
     ]
    }
   ],
   "source": [
    "model_cs = opt.cobra_model(\"model_build\")\n",
    "model_cs.objective = \"biomass_reaction\""
   ]
  },
  {
   "cell_type": "code",
   "execution_count": 27,
   "metadata": {},
   "outputs": [
    {
     "data": {
      "text/html": [
       "<h3>Objective</h3><p>1.0 biomass_reaction = 0.05475371777743709</p><h4>Uptake</h4><table border=\"1\" class=\"dataframe\">\n",
       "  <thead>\n",
       "    <tr style=\"text-align: right;\">\n",
       "      <th>Metabolite</th>\n",
       "      <th>Reaction</th>\n",
       "      <th>Flux</th>\n",
       "      <th>C-Number</th>\n",
       "      <th>C-Flux</th>\n",
       "    </tr>\n",
       "  </thead>\n",
       "  <tbody>\n",
       "    <tr>\n",
       "      <td>ala_L_e</td>\n",
       "      <td>EX_ala_L_e</td>\n",
       "      <td>0.01986</td>\n",
       "      <td>3</td>\n",
       "      <td>0.95%</td>\n",
       "    </tr>\n",
       "    <tr>\n",
       "      <td>arg_L_e</td>\n",
       "      <td>EX_arg_L_e</td>\n",
       "      <td>0.01967</td>\n",
       "      <td>6</td>\n",
       "      <td>1.89%</td>\n",
       "    </tr>\n",
       "    <tr>\n",
       "      <td>asn_L_e</td>\n",
       "      <td>EX_asn_L_e</td>\n",
       "      <td>0.02852</td>\n",
       "      <td>4</td>\n",
       "      <td>1.82%</td>\n",
       "    </tr>\n",
       "    <tr>\n",
       "      <td>asp_L_e</td>\n",
       "      <td>EX_asp_L_e</td>\n",
       "      <td>0.03544</td>\n",
       "      <td>4</td>\n",
       "      <td>2.27%</td>\n",
       "    </tr>\n",
       "    <tr>\n",
       "      <td>chol_e</td>\n",
       "      <td>EX_chol_e</td>\n",
       "      <td>0.005</td>\n",
       "      <td>5</td>\n",
       "      <td>0.40%</td>\n",
       "    </tr>\n",
       "    <tr>\n",
       "      <td>cys_L_e</td>\n",
       "      <td>EX_cys_L_e</td>\n",
       "      <td>0.00255</td>\n",
       "      <td>3</td>\n",
       "      <td>0.12%</td>\n",
       "    </tr>\n",
       "    <tr>\n",
       "      <td>glc_D_e</td>\n",
       "      <td>EX_glc_D_e</td>\n",
       "      <td>0.695</td>\n",
       "      <td>6</td>\n",
       "      <td>66.70%</td>\n",
       "    </tr>\n",
       "    <tr>\n",
       "      <td>gln_L_e</td>\n",
       "      <td>EX_gln_L_e</td>\n",
       "      <td>0.04209</td>\n",
       "      <td>5</td>\n",
       "      <td>3.37%</td>\n",
       "    </tr>\n",
       "    <tr>\n",
       "      <td>gly_e</td>\n",
       "      <td>EX_gly_e</td>\n",
       "      <td>0.02373</td>\n",
       "      <td>2</td>\n",
       "      <td>0.76%</td>\n",
       "    </tr>\n",
       "    <tr>\n",
       "      <td>his_L_e</td>\n",
       "      <td>EX_his_L_e</td>\n",
       "      <td>0.006921</td>\n",
       "      <td>6</td>\n",
       "      <td>0.66%</td>\n",
       "    </tr>\n",
       "    <tr>\n",
       "      <td>ile_L_e</td>\n",
       "      <td>EX_ile_L_e</td>\n",
       "      <td>0.01566</td>\n",
       "      <td>6</td>\n",
       "      <td>1.50%</td>\n",
       "    </tr>\n",
       "    <tr>\n",
       "      <td>inost_e</td>\n",
       "      <td>EX_inost_e</td>\n",
       "      <td>0.001277</td>\n",
       "      <td>6</td>\n",
       "      <td>0.12%</td>\n",
       "    </tr>\n",
       "    <tr>\n",
       "      <td>leu_L_e</td>\n",
       "      <td>EX_leu_L_e</td>\n",
       "      <td>0.02987</td>\n",
       "      <td>6</td>\n",
       "      <td>2.87%</td>\n",
       "    </tr>\n",
       "    <tr>\n",
       "      <td>lys_L_e</td>\n",
       "      <td>EX_lys_L_e</td>\n",
       "      <td>0.03242</td>\n",
       "      <td>6</td>\n",
       "      <td>3.11%</td>\n",
       "    </tr>\n",
       "    <tr>\n",
       "      <td>met_L_e</td>\n",
       "      <td>EX_met_L_e</td>\n",
       "      <td>0.02162</td>\n",
       "      <td>5</td>\n",
       "      <td>1.73%</td>\n",
       "    </tr>\n",
       "    <tr>\n",
       "      <td>o2_e</td>\n",
       "      <td>EX_o2_e</td>\n",
       "      <td>0.0237</td>\n",
       "      <td>0</td>\n",
       "      <td>0.00%</td>\n",
       "    </tr>\n",
       "    <tr>\n",
       "      <td>phe_L_e</td>\n",
       "      <td>EX_phe_L_e</td>\n",
       "      <td>0.01421</td>\n",
       "      <td>9</td>\n",
       "      <td>2.05%</td>\n",
       "    </tr>\n",
       "    <tr>\n",
       "      <td>pi_e</td>\n",
       "      <td>EX_pi_e</td>\n",
       "      <td>0.06797</td>\n",
       "      <td>0</td>\n",
       "      <td>0.00%</td>\n",
       "    </tr>\n",
       "    <tr>\n",
       "      <td>pro_L_e</td>\n",
       "      <td>EX_pro_L_e</td>\n",
       "      <td>0.02259</td>\n",
       "      <td>5</td>\n",
       "      <td>1.81%</td>\n",
       "    </tr>\n",
       "    <tr>\n",
       "      <td>ser_L_e</td>\n",
       "      <td>EX_ser_L_e</td>\n",
       "      <td>0.05</td>\n",
       "      <td>3</td>\n",
       "      <td>2.40%</td>\n",
       "    </tr>\n",
       "    <tr>\n",
       "      <td>thr_L_e</td>\n",
       "      <td>EX_thr_L_e</td>\n",
       "      <td>0.01712</td>\n",
       "      <td>4</td>\n",
       "      <td>1.10%</td>\n",
       "    </tr>\n",
       "    <tr>\n",
       "      <td>trp_L_e</td>\n",
       "      <td>EX_trp_L_e</td>\n",
       "      <td>0.0007286</td>\n",
       "      <td>11</td>\n",
       "      <td>0.13%</td>\n",
       "    </tr>\n",
       "    <tr>\n",
       "      <td>tyr_L_e</td>\n",
       "      <td>EX_tyr_L_e</td>\n",
       "      <td>0.008743</td>\n",
       "      <td>9</td>\n",
       "      <td>1.26%</td>\n",
       "    </tr>\n",
       "    <tr>\n",
       "      <td>val_L_e</td>\n",
       "      <td>EX_val_L_e</td>\n",
       "      <td>0.01931</td>\n",
       "      <td>5</td>\n",
       "      <td>1.54%</td>\n",
       "    </tr>\n",
       "    <tr>\n",
       "      <td>tag_hs_c</td>\n",
       "      <td>sink_tag_hs_c</td>\n",
       "      <td>0.015</td>\n",
       "      <td>6</td>\n",
       "      <td>1.44%</td>\n",
       "    </tr>\n",
       "  </tbody>\n",
       "</table><h4>Secretion</h4><table border=\"1\" class=\"dataframe\">\n",
       "  <thead>\n",
       "    <tr style=\"text-align: right;\">\n",
       "      <th>Metabolite</th>\n",
       "      <th>Reaction</th>\n",
       "      <th>Flux</th>\n",
       "      <th>C-Number</th>\n",
       "      <th>C-Flux</th>\n",
       "    </tr>\n",
       "  </thead>\n",
       "  <tbody>\n",
       "    <tr>\n",
       "      <td>h2o_e</td>\n",
       "      <td>EX_h2o_e</td>\n",
       "      <td>-0.103</td>\n",
       "      <td>0</td>\n",
       "      <td>0.00%</td>\n",
       "    </tr>\n",
       "    <tr>\n",
       "      <td>h_e</td>\n",
       "      <td>EX_h_e</td>\n",
       "      <td>-1.342</td>\n",
       "      <td>0</td>\n",
       "      <td>0.00%</td>\n",
       "    </tr>\n",
       "    <tr>\n",
       "      <td>hco3_e</td>\n",
       "      <td>EX_hco3_e</td>\n",
       "      <td>-0.004409</td>\n",
       "      <td>1</td>\n",
       "      <td>0.10%</td>\n",
       "    </tr>\n",
       "    <tr>\n",
       "      <td>hcys_L_e</td>\n",
       "      <td>EX_hcys_L_e</td>\n",
       "      <td>-0.01324</td>\n",
       "      <td>4</td>\n",
       "      <td>1.21%</td>\n",
       "    </tr>\n",
       "    <tr>\n",
       "      <td>lac_D_e</td>\n",
       "      <td>EX_lac_D_e</td>\n",
       "      <td>-1.321</td>\n",
       "      <td>3</td>\n",
       "      <td>90.63%</td>\n",
       "    </tr>\n",
       "    <tr>\n",
       "      <td>lac_L_e</td>\n",
       "      <td>EX_lac_L_e</td>\n",
       "      <td>-0.006786</td>\n",
       "      <td>3</td>\n",
       "      <td>0.47%</td>\n",
       "    </tr>\n",
       "    <tr>\n",
       "      <td>mal_L_e</td>\n",
       "      <td>EX_mal_L_e</td>\n",
       "      <td>-0.03381</td>\n",
       "      <td>4</td>\n",
       "      <td>3.09%</td>\n",
       "    </tr>\n",
       "    <tr>\n",
       "      <td>nh4_e</td>\n",
       "      <td>EX_nh4_e</td>\n",
       "      <td>-0.02997</td>\n",
       "      <td>0</td>\n",
       "      <td>0.00%</td>\n",
       "    </tr>\n",
       "    <tr>\n",
       "      <td>succ_e</td>\n",
       "      <td>EX_succ_e</td>\n",
       "      <td>-0.003114</td>\n",
       "      <td>4</td>\n",
       "      <td>0.28%</td>\n",
       "    </tr>\n",
       "    <tr>\n",
       "      <td>hdca_c</td>\n",
       "      <td>sink_hdca_c</td>\n",
       "      <td>-0.01153</td>\n",
       "      <td>16</td>\n",
       "      <td>4.22%</td>\n",
       "    </tr>\n",
       "  </tbody>\n",
       "</table>"
      ],
      "text/plain": [
       "<cobra.summary.model_summary.ModelSummary at 0x258684ed910>"
      ]
     },
     "execution_count": 27,
     "metadata": {},
     "output_type": "execute_result"
    }
   ],
   "source": [
    "model_cs.summary()"
   ]
  },
  {
   "cell_type": "code",
   "execution_count": 29,
   "metadata": {},
   "outputs": [
    {
     "data": {
      "text/plain": [
       "[]"
      ]
     },
     "execution_count": 29,
     "metadata": {},
     "output_type": "execute_result"
    }
   ],
   "source": [
    "[ex.id for ex in model_cs.reactions if re.match('EX', r.id)]"
   ]
  },
  {
   "cell_type": "code",
   "execution_count": 22,
   "metadata": {},
   "outputs": [],
   "source": [
    "model_cs = opt.model\n",
    "model_cs.objective = \"biomass_reaction\"\n",
    "cobra.io.write_sbml_model(model_cs, f'../data/processed/{cell_line}_corda_model.xml')"
   ]
  },
  {
   "cell_type": "markdown",
   "metadata": {},
   "source": [
    "## Single gene deletion of the context-specific model"
   ]
  },
  {
   "cell_type": "code",
   "execution_count": 28,
   "metadata": {},
   "outputs": [],
   "source": [
    "model_cs.solver = 'glpk'\n",
    "solution = model_cs.optimize()"
   ]
  },
  {
   "cell_type": "code",
   "execution_count": 29,
   "metadata": {},
   "outputs": [
    {
     "data": {
      "text/html": [
       "<div>\n",
       "<style scoped>\n",
       "    .dataframe tbody tr th:only-of-type {\n",
       "        vertical-align: middle;\n",
       "    }\n",
       "\n",
       "    .dataframe tbody tr th {\n",
       "        vertical-align: top;\n",
       "    }\n",
       "\n",
       "    .dataframe thead th {\n",
       "        text-align: right;\n",
       "    }\n",
       "</style>\n",
       "<table border=\"1\" class=\"dataframe\">\n",
       "  <thead>\n",
       "    <tr style=\"text-align: right;\">\n",
       "      <th></th>\n",
       "      <th>growth</th>\n",
       "      <th>status</th>\n",
       "    </tr>\n",
       "    <tr>\n",
       "      <th>ids</th>\n",
       "      <th></th>\n",
       "      <th></th>\n",
       "    </tr>\n",
       "  </thead>\n",
       "  <tbody>\n",
       "    <tr>\n",
       "      <th>ST6GALNAC6</th>\n",
       "      <td>5.475372e-02</td>\n",
       "      <td>optimal</td>\n",
       "    </tr>\n",
       "    <tr>\n",
       "      <th>PMVK</th>\n",
       "      <td>5.332828e-18</td>\n",
       "      <td>optimal</td>\n",
       "    </tr>\n",
       "    <tr>\n",
       "      <th>ACY1</th>\n",
       "      <td>5.475372e-02</td>\n",
       "      <td>optimal</td>\n",
       "    </tr>\n",
       "    <tr>\n",
       "      <th>GUSB</th>\n",
       "      <td>5.475372e-02</td>\n",
       "      <td>optimal</td>\n",
       "    </tr>\n",
       "    <tr>\n",
       "      <th>MGAT4C</th>\n",
       "      <td>5.475372e-02</td>\n",
       "      <td>optimal</td>\n",
       "    </tr>\n",
       "  </tbody>\n",
       "</table>\n",
       "</div>"
      ],
      "text/plain": [
       "                  growth   status\n",
       "ids                              \n",
       "ST6GALNAC6  5.475372e-02  optimal\n",
       "PMVK        5.332828e-18  optimal\n",
       "ACY1        5.475372e-02  optimal\n",
       "GUSB        5.475372e-02  optimal\n",
       "MGAT4C      5.475372e-02  optimal"
      ]
     },
     "execution_count": 29,
     "metadata": {},
     "output_type": "execute_result"
    }
   ],
   "source": [
    "# Import the function single_gene_deletion\n",
    "from cobra.flux_analysis import single_gene_deletion\n",
    "\n",
    "# Then get the list of all the genes\n",
    "all_genes = [g.id for g in model_cs.genes]\n",
    "\n",
    "# Running in silico (takes a while)\n",
    "knockout = single_gene_deletion(model_cs, gene_list=all_genes)\n",
    "\n",
    "# This is a fix to get the gene's id as the index\n",
    "knockout['ids'] = [list(i)[0] for i in knockout.ids]\n",
    "knockout = knockout.set_index('ids')\n",
    "\n",
    "# The output of the function single_gene_deletion is a dataframe\n",
    "knockout.head()"
   ]
  },
  {
   "cell_type": "code",
   "execution_count": 30,
   "metadata": {},
   "outputs": [
    {
     "name": "stdout",
     "output_type": "stream",
     "text": [
      "Objective value: 0.05\n",
      "\n",
      "Status: optimal\n",
      "\n",
      "Fluxes:\n",
      "\n",
      "10FTHF5GLUtl    0.000000\n",
      "10FTHF5GLUtm    0.000000\n",
      "10FTHF6GLUtl    0.000000\n",
      "10FTHF6GLUtm    0.000000\n",
      "10FTHF7GLUtl    0.000000\n",
      "                  ...   \n",
      "ATPS4mi         0.256119\n",
      "CYOR_u10mi      0.006297\n",
      "Htmi            0.000000\n",
      "CYOOm3i         0.249822\n",
      "CYOOm2i         0.000000\n",
      "Name: fluxes, Length: 4878, dtype: float64\n"
     ]
    }
   ],
   "source": [
    "solution_cs = model_cs.optimize()\n",
    "objective_value = solution_cs.objective_value\n",
    "print(\"Objective value: %.2f\\n\" % solution_cs.objective_value)\n",
    "print(\"Status: %s\\n\" % solution_cs.status)\n",
    "\n",
    "print(\"Fluxes:\\n\")\n",
    "print(solution_cs.fluxes)"
   ]
  },
  {
   "cell_type": "code",
   "execution_count": 31,
   "metadata": {},
   "outputs": [
    {
     "name": "stdout",
     "output_type": "stream",
     "text": [
      "in-silico lethals: 55\n",
      "in-silico non lethals: 1477\n"
     ]
    }
   ],
   "source": [
    "# We define a threshold to define whether the reduction on the biomass flux is considered lethal.\n",
    "threshold = objective_value*0.01\n",
    "\n",
    "# Use this threshold to find which set of genes' knock out reduce the predicted growth below the threshold.\n",
    "insilico_lethals = set(knockout.index[knockout.growth< threshold])\n",
    "# The set of non-essential genes are the genes with a growth value above the threshold.\n",
    "insilico_non_lethals = set(knockout.index[knockout.growth > threshold])\n",
    "\n",
    "print(\"in-silico lethals:\", len(insilico_lethals))\n",
    "print(\"in-silico non lethals:\", len(insilico_non_lethals))"
   ]
  },
  {
   "cell_type": "code",
   "execution_count": 32,
   "metadata": {},
   "outputs": [
    {
     "data": {
      "text/plain": [
       "{'ADSL',\n",
       " 'ATIC',\n",
       " 'CAD',\n",
       " 'COX4I1',\n",
       " 'COX5A',\n",
       " 'COX5B',\n",
       " 'COX6A1',\n",
       " 'COX6A2',\n",
       " 'COX6B1',\n",
       " 'COX6C',\n",
       " 'COX7A2',\n",
       " 'COX7B',\n",
       " 'COX7B2',\n",
       " 'COX7C',\n",
       " 'COX8A',\n",
       " 'COX8C',\n",
       " 'CRLS1',\n",
       " 'CYC1',\n",
       " 'DHFR',\n",
       " 'DHODH',\n",
       " 'EBP',\n",
       " 'FDFT1',\n",
       " 'GART',\n",
       " 'GUK1',\n",
       " 'HMGCR',\n",
       " 'HSD17B7',\n",
       " 'KDSR',\n",
       " 'LSS',\n",
       " 'MT-CYB',\n",
       " 'MVD',\n",
       " 'MVK',\n",
       " 'NSDHL',\n",
       " 'PAICS',\n",
       " 'PFAS',\n",
       " 'PGS1',\n",
       " 'PMVK',\n",
       " 'PPAT',\n",
       " 'PTPMT1',\n",
       " 'RPIA',\n",
       " 'SLC7A6',\n",
       " 'SPTLC1',\n",
       " 'SPTLC2',\n",
       " 'SPTLC3',\n",
       " 'SQLE',\n",
       " 'TXNRD1',\n",
       " 'TYMS',\n",
       " 'UMPS',\n",
       " 'UQCR10',\n",
       " 'UQCR11',\n",
       " 'UQCRB',\n",
       " 'UQCRC1',\n",
       " 'UQCRC2',\n",
       " 'UQCRFS1',\n",
       " 'UQCRH',\n",
       " 'UQCRQ'}"
      ]
     },
     "execution_count": 32,
     "metadata": {},
     "output_type": "execute_result"
    }
   ],
   "source": [
    "insilico_lethals"
   ]
  },
  {
   "cell_type": "markdown",
   "metadata": {},
   "source": [
    "## Optional Visualizing flux distributions using Escher\n",
    "\n",
    "[Escher documentation](https://escher.readthedocs.io/en/latest/)\n",
    "\n",
    "Escher online WebApp: [https://escher.github.io/](https://escher.github.io/#/)\n",
    "\n",
    "TODO"
   ]
  },
  {
   "cell_type": "code",
   "execution_count": 2,
   "metadata": {},
   "outputs": [
    {
     "name": "stdout",
     "output_type": "stream",
     "text": [
      "Downloading Map from https://escher.github.io/1-0-0/6/maps/Escherichia%20coli/iJO1366.Central%20metabolism.json\n"
     ]
    }
   ],
   "source": [
    "import escher\n",
    "from escher import Builder\n",
    "\n",
    "# Lets crate a builder by passing our model as well a given map name to tell escher how to represent the network\n",
    "# Check the escher web to see other maps https://escher.github.io/#/\n",
    "builder = Builder(organism='Escherichia coli', map_name='iJO1366.Central metabolism')"
   ]
  },
  {
   "cell_type": "code",
   "execution_count": 7,
   "metadata": {},
   "outputs": [
    {
     "data": {
      "application/vnd.jupyter.widget-view+json": {
       "model_id": "1e68bb9587b74e4b8e5f96012cfffd33",
       "version_major": 2,
       "version_minor": 0
      },
      "text/plain": [
       "Builder(allow_building_duplicate_reactions=False, and_method_in_gene_reaction_rule='mean', cofactors=['atp', '…"
      ]
     },
     "metadata": {},
     "output_type": "display_data"
    }
   ],
   "source": [
    "# Add the optimal flux distribution to our map builder\n",
    "model.reactions.EX_o2_e_.lower_bound = -20\n",
    "model.reactions.EX_glc_e_.lower_bound = -10\n",
    "model.reactions.EX_ac_e_.lower_bound = 0\n",
    "\n",
    "\n",
    "gene =  model.genes.b0720\n",
    "with model:\n",
    "    gene.knock_out()\n",
    "    ko_solution = model.optimize()\n",
    "\n",
    "builder.reaction_data = ko_solution.fluxes\n",
    "builder"
   ]
  }
 ],
 "metadata": {
  "kernelspec": {
   "display_name": "Python 3",
   "language": "python",
   "name": "python3"
  },
  "language_info": {
   "codemirror_mode": {
    "name": "ipython",
    "version": 3
   },
   "file_extension": ".py",
   "mimetype": "text/x-python",
   "name": "python",
   "nbconvert_exporter": "python",
   "pygments_lexer": "ipython3",
   "version": "3.8.5"
  },
  "latex_metadata": {
   "affiliation": "Barcelona Supercomputing Center, Barcelona Spain",
   "authors": "Miguel Ponce de Leon, Arnau Montagud",
   "title": "Constraint-based modelling tutorial"
  },
  "metadata": {
   "interpreter": {
    "hash": "63fd5069d213b44bf678585dea6b12cceca9941eaf7f819626cde1f2670de90d"
   }
  }
 },
 "nbformat": 4,
 "nbformat_minor": 4
}
