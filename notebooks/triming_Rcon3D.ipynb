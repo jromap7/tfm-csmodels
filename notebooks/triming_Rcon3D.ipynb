{
 "cells": [
  {
   "cell_type": "code",
   "execution_count": 21,
   "metadata": {},
   "outputs": [],
   "source": [
    "%reload_ext autoreload\n",
    "%autoreload 2\n",
    "\n",
    "import json\n",
    "import pandas as pd\n",
    "\n",
    "from cobra.io import read_sbml_model\n",
    "from cobra.io import write_sbml_model\n",
    "from cobra.io.sbml import validate_sbml_model\n",
    "\n",
    "from csm4cobra.consistency_analysis import UmFinder\n",
    "\n",
    "from csm4cobra import reachability\n",
    "\n",
    "from cobra.manipulation.modify import rename_genes"
   ]
  },
  {
   "cell_type": "code",
   "execution_count": 11,
   "metadata": {},
   "outputs": [],
   "source": [
    "sbml_fname = 'Recon3DModel_301_no_isoforms.xml'\n",
    "model_original = read_sbml_model(sbml_fname)\n",
    "\n",
    "model = model_original.copy()"
   ]
  },
  {
   "cell_type": "code",
   "execution_count": 9,
   "metadata": {},
   "outputs": [],
   "source": [
    "df_genes = pd.read_csv('./recon3d-store-genes.tsv', sep='\\t')\n",
    "df_genes = df_genes[['gene_number', 'symbol', 'gstart', 'gend', 'ensembl_gene']]\n",
    "\n",
    "remove_isoforms_dict = {i:str(i).split('.')[0] for i in df_genes.gene_number}\n",
    "df_genes = df_genes.replace(remove_isoforms_dict)\n",
    "df_genes = df_genes.drop_duplicates()\n",
    "\n",
    "df_genes = df_genes.set_index('gene_number')"
   ]
  },
  {
   "cell_type": "code",
   "execution_count": 26,
   "metadata": {},
   "outputs": [],
   "source": [
    "gene_id_mappging = {g.id:df_genes.symbol[g.id] for g in model.genes}\n",
    "rename_genes(model, gene_id_mappging)"
   ]
  },
  {
   "cell_type": "code",
   "execution_count": 30,
   "metadata": {},
   "outputs": [
    {
     "name": "stdout",
     "output_type": "stream",
     "text": [
      "Optimal solution found 0.0844431984381386\n",
      "Skiping:, EX_cl_e EX_ca2_e EX_zn2_e EX_glc_e Optimal solution found 0.0844431984381386\n"
     ]
    }
   ],
   "source": [
    "#############################################\n",
    "# Setting the correct boundary condition\n",
    "#############################################\n",
    "\n",
    "json_fname =\"RPMI_1640_media.json\"\n",
    "with open(json_fname) as fh:\n",
    "    rpmi_media = json.load(fh)\n",
    "\n",
    "for r in rpmi_media:\n",
    "    rpmi_media[r] *= -1\n",
    "\n",
    "rpmi_media['EX_Tyr_ggn_e'] = 0\n",
    "\n",
    "# Important: this sink \"sink_tag_hs_c\" should have a negative lower bound to predict growht \n",
    "rpmi_media['EX_glc_D_e'] = -5\n",
    "rpmi_media['sink_tag_hs_c'] = -0.2\n",
    "\n",
    "model.reactions.biomass_maintenance.objective_coefficient = 0\n",
    "model.reactions.biomass_reaction.objective_coefficient = 1\n",
    "\n",
    "model.reactions.ARTFR208.bounds = (0, 0)\n",
    "model.reactions.ARTPLM3.bounds = (0, 0)\n",
    "\n",
    "solution = model.optimize()\n",
    "print(\"Optimal solution found\",solution.objective_value)\n",
    "\n",
    "for r in model.boundary:\n",
    "    if r.lower_bound >= 0:\n",
    "        continue\n",
    "    r.lower_bound = 0\n",
    "\n",
    "print(\"Skiping:\", end=\", \")\n",
    "for r in rpmi_media:\n",
    "    if r in model.reactions:\n",
    "        rxn = model.reactions.get_by_id(r)\n",
    "        rxn.lower_bound = rpmi_media[r]\n",
    "    else:\n",
    "        print(r, end=\" \")\n",
    "\n",
    "solution = model.optimize()\n",
    "print(\"Optimal solution found\",solution.objective_value)"
   ]
  },
  {
   "cell_type": "code",
   "execution_count": 31,
   "metadata": {},
   "outputs": [
    {
     "name": "stdout",
     "output_type": "stream",
     "text": [
      "===========================================================\n",
      "Initializing Reachability Tester using\n",
      "Model: Recon3DModel_3_01\n",
      "- Nº of reactions: 10600\n",
      "- Nº of metabolites: 5835\n",
      "- Nº of target products: 77\n",
      "Warning the following target products cannot be reached\n",
      "glygn2_c xolest_hs_c\n",
      "Removing compounds form the list of target products\n",
      "Updating LP models\n"
     ]
    }
   ],
   "source": [
    "json_fname =\"All_biomass_compound.json\"\n",
    "with open(json_fname) as fh:\n",
    "    target_products = json.load(fh)\n",
    "    \n",
    "target_products_in_model = [i for i in target_products if i in model.metabolites]    \n",
    "excluded_compounds = set(target_products) - set(target_products_in_model)\n",
    "\n",
    "reachability_tester = reachability.ReachabilityTester(model, target_products_in_model, flux_bound=1000)\n",
    "\n",
    "df_reachability = reachability_tester.single_gene_reachability()\n",
    "\n",
    "df_reachability_square = reachability.to_square_form(df_reachability)\n",
    "\n",
    "f = reachability_plots.plot_clustermap(df_reachability_square)\n",
    "\n",
    "f.show()"
   ]
  },
  {
   "cell_type": "code",
   "execution_count": 37,
   "metadata": {},
   "outputs": [
    {
     "name": "stdout",
     "output_type": "stream",
     "text": [
      "===========================================================\n",
      "Initializing UmFinder Builder using\n",
      "Model: Recon3DModel_3_01\n",
      "- Nº of reactions: 10600\n",
      "- Nº of metabolites: 5835\n",
      "\n",
      "Checking network consistency (may take some minutes)\n",
      "Finding blocked reaction using method: fva\n",
      "\n",
      "- Nº of blocked reactions: 1656\n",
      "- Nº of gap metabolites: 967\n",
      "- Nº of unconnected modules: 427\n",
      "- N of reactions in the biggest unconnected module: 84\n",
      "- N of metabolites in the biggest unconnected module: 66\n",
      "===========================\n"
     ]
    },
    {
     "ename": "NameError",
     "evalue": "name 'show' is not defined",
     "output_type": "error",
     "traceback": [
      "\u001b[0;31m---------------------------------------------------------------------------\u001b[0m",
      "\u001b[0;31mNameError\u001b[0m                                 Traceback (most recent call last)",
      "\u001b[0;32m<ipython-input-37-6805acb7cad2>\u001b[0m in \u001b[0;36m<module>\u001b[0;34m()\u001b[0m\n\u001b[1;32m      2\u001b[0m \u001b[0mtrimed_model\u001b[0m \u001b[0;34m=\u001b[0m \u001b[0mmodel\u001b[0m\u001b[0;34m.\u001b[0m\u001b[0mcopy\u001b[0m\u001b[0;34m(\u001b[0m\u001b[0;34m)\u001b[0m\u001b[0;34m\u001b[0m\u001b[0;34m\u001b[0m\u001b[0m\n\u001b[1;32m      3\u001b[0m \u001b[0mprint\u001b[0m\u001b[0;34m(\u001b[0m\u001b[0;34m\"===========================\"\u001b[0m\u001b[0;34m)\u001b[0m\u001b[0;34m\u001b[0m\u001b[0;34m\u001b[0m\u001b[0m\n\u001b[0;32m----> 4\u001b[0;31m \u001b[0mshow\u001b[0m\u001b[0;34m(\u001b[0m\u001b[0mtrimed_model\u001b[0m\u001b[0;34m)\u001b[0m\u001b[0;34m\u001b[0m\u001b[0;34m\u001b[0m\u001b[0m\n\u001b[0m\u001b[1;32m      5\u001b[0m \u001b[0;34m\u001b[0m\u001b[0m\n\u001b[1;32m      6\u001b[0m \u001b[0mprint\u001b[0m\u001b[0;34m(\u001b[0m\u001b[0;34m\"===========================\"\u001b[0m\u001b[0;34m)\u001b[0m\u001b[0;34m\u001b[0m\u001b[0;34m\u001b[0m\u001b[0m\n",
      "\u001b[0;31mNameError\u001b[0m: name 'show' is not defined"
     ]
    }
   ],
   "source": [
    "um_finder = UmFinder(model)\n",
    "trimed_model = model.copy()\n",
    "print(\"===========================\")\n",
    "show(trimed_model)\n",
    "\n",
    "print(\"===========================\")\n",
    "gap_metabolites = [trimed_model.metabolites.get_by_id(m) for m in um_finder.gap_metabolites]\n",
    "blocked_reactions = [trimed_model.reactions.get_by_id(r) for r in um_finder.blocked_reactions]\n",
    "\n",
    "trimed_model.remove_metabolites(gap_metabolites)\n",
    "trimed_model.remove_reactions(blocked_reactions)\n",
    "\n",
    "trimed_model.optimize()\n",
    "\n",
    "sbml_fname_out = \"Recon3DModel_301_no_isoforms_gene_symbols_rpmi_trimed.xml\"\n",
    "write_sbml_model(trimed_model, sbml_fname_out)"
   ]
  }
 ],
 "metadata": {
  "kernelspec": {
   "display_name": "Python 3",
   "language": "python",
   "name": "python3"
  },
  "language_info": {
   "codemirror_mode": {
    "name": "ipython",
    "version": 3
   },
   "file_extension": ".py",
   "mimetype": "text/x-python",
   "name": "python",
   "nbconvert_exporter": "python",
   "pygments_lexer": "ipython3",
   "version": "3.8.5"
  }
 },
 "nbformat": 4,
 "nbformat_minor": 4
}
